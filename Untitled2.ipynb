{
  "nbformat": 4,
  "nbformat_minor": 0,
  "metadata": {
    "colab": {
      "provenance": [],
      "collapsed_sections": []
    },
    "kernelspec": {
      "name": "python3",
      "display_name": "Python 3"
    },
    "language_info": {
      "name": "python"
    }
  },
  "cells": [
    {
      "cell_type": "code",
      "execution_count": null,
      "metadata": {
        "id": "fOQPgznujQMo"
      },
      "outputs": [],
      "source": [
        "import scipy.stats as sps\n",
        "from statsmodels.distributions.empirical_distribution import ECDF\n",
        "import matplotlib.pyplot as plt\n",
        "from array import array\n",
        "import numpy as np\n",
        "import pandas as pd\n",
        "plt.style.use('ggplot')    # стиль графиков\n",
        "\n",
        "%matplotlib inline"
      ]
    },
    {
      "cell_type": "code",
      "source": [
        "df = pd.read_excel(\"/content/data_matstat_K5.xlsx\", sheet_name = \"D - homedat\")['D3'].to_numpy()"
      ],
      "metadata": {
        "id": "MTf6ETxnsbv3"
      },
      "execution_count": null,
      "outputs": []
    },
    {
      "cell_type": "code",
      "source": [
        "print(len(df))"
      ],
      "metadata": {
        "colab": {
          "base_uri": "https://localhost:8080/"
        },
        "id": "vvhhXw-mtreT",
        "outputId": "1111b4fc-8ce8-486f-fd4f-f52b6a4cb1c0"
      },
      "execution_count": null,
      "outputs": [
        {
          "output_type": "stream",
          "name": "stdout",
          "text": [
            "117\n"
          ]
        }
      ]
    },
    {
      "cell_type": "code",
      "source": [
        "print(np.mean(df))"
      ],
      "metadata": {
        "colab": {
          "base_uri": "https://localhost:8080/"
        },
        "id": "Z_g4RRK8uU8v",
        "outputId": "fd803624-53c6-44f6-cf5e-c2f1aefe3b43"
      },
      "execution_count": null,
      "outputs": [
        {
          "output_type": "stream",
          "name": "stdout",
          "text": [
            "1260.4444444444443\n"
          ]
        }
      ]
    },
    {
      "cell_type": "code",
      "source": [
        "df.std()"
      ],
      "metadata": {
        "colab": {
          "base_uri": "https://localhost:8080/"
        },
        "id": "yVIgoxdpuMEc",
        "outputId": "5c8fc788-e3e5-4711-f760-4ddc57a8601a"
      },
      "execution_count": null,
      "outputs": [
        {
          "output_type": "execute_result",
          "data": {
            "text/plain": [
              "386.88823104849894"
            ]
          },
          "metadata": {},
          "execution_count": 14
        }
      ]
    },
    {
      "cell_type": "code",
      "source": [],
      "metadata": {
        "id": "SIjbxFEHvs7_"
      },
      "execution_count": null,
      "outputs": []
    },
    {
      "cell_type": "code",
      "source": [
        "m = [1100, 1400, 1250]\n",
        "print(df.mean())\n",
        "for m0 in m:\n",
        "    print(\" T-test : The z-statistic is %.3f and the p-value is \" % sps.ttest_1samp(df, m0)[0], sps.ttest_1samp(df, m0)[1])"
      ],
      "metadata": {
        "colab": {
          "base_uri": "https://localhost:8080/"
        },
        "id": "cA7YGgdpj9L2",
        "outputId": "ccea13b1-2813-471d-d7c0-36e552c674f7"
      },
      "execution_count": 35,
      "outputs": [
        {
          "output_type": "stream",
          "name": "stdout",
          "text": [
            "1260.4444444444443\n",
            " T-test : The z-statistic is 4.467 and the p-value is  1.857134651859673e-05\n",
            " T-test : The z-statistic is -3.885 and the p-value is  0.00017073553019871952\n",
            " T-test : The z-statistic is 0.291 and the p-value is  0.771757069942529\n"
          ]
        }
      ]
    },
    {
      "cell_type": "code",
      "source": [
        "n = len(df)\n",
        "sigma = [240, 200, 390]\n",
        "print(df.std())\n",
        "for sigma0 in sigma:\n",
        "    z = df.var() * (n-1) / sigma0**(2)\n",
        "    p_value = 2*min([sps.chi2.cdf(z, n - 1), 1 - sps.chi2.cdf(z, n - 1)]) \n",
        "    print(\" chi2-test : The z-statistic is %.3f and the p-value is %.3f.\" % (z,  p_value))"
      ],
      "metadata": {
        "colab": {
          "base_uri": "https://localhost:8080/"
        },
        "id": "Omsb_s9sxh0p",
        "outputId": "eb2945e2-63ad-4f20-9a78-afb84a1910b0"
      },
      "execution_count": null,
      "outputs": [
        {
          "output_type": "stream",
          "name": "stdout",
          "text": [
            "386.88823104849894\n",
            " chi2-test : The z-statistic is 301.444 and the p-value is 0.000.\n",
            " chi2-test : The z-statistic is 434.079 and the p-value is 0.000.\n",
            " chi2-test : The z-statistic is 114.156 and the p-value is 0.938.\n"
          ]
        }
      ]
    },
    {
      "cell_type": "code",
      "source": [
        "df2 = pd.read_excel('/content/data_matstat_K5.xlsx', sheet_name = \"D - homedat\")['D2'].to_numpy()"
      ],
      "metadata": {
        "id": "F8OokcKS-RZe"
      },
      "execution_count": 36,
      "outputs": []
    },
    {
      "cell_type": "code",
      "source": [
        "print(df.mean(), df2.mean())\n",
        "print(\" 2-sample t-test : The z-statistic is %.3f and the p-value is %.3f.\" % sps.ttest_ind(df, df2))"
      ],
      "metadata": {
        "colab": {
          "base_uri": "https://localhost:8080/"
        },
        "id": "Z9lGqfiJBkuw",
        "outputId": "bc7d47c5-a7f5-4e02-83ea-8b58a4139336"
      },
      "execution_count": 38,
      "outputs": [
        {
          "output_type": "stream",
          "name": "stdout",
          "text": [
            "1260.4444444444443 1166.4615384615386\n",
            " 2-sample t-test : The z-statistic is 1.863 and the p-value is 0.064.\n"
          ]
        }
      ]
    },
    {
      "cell_type": "code",
      "source": [
        "z = df.var() / df2.var()\n",
        "n1 = len(df)\n",
        "n2 = len(df2)\n",
        "print(\" 2-sample f-test: \\n The z-statistic is %.3f and the p-value is %.3f.\" % (z, 2*min([sps.f.cdf(z, n1 -1 , n2-1), 1 - sps.f.cdf(z, n1-1, n2-1)])))"
      ],
      "metadata": {
        "colab": {
          "base_uri": "https://localhost:8080/"
        },
        "id": "Fq-zTuIbCKm2",
        "outputId": "00a3fd9e-4781-4f33-db60-fa8f84f3f3ac"
      },
      "execution_count": 44,
      "outputs": [
        {
          "output_type": "stream",
          "name": "stdout",
          "text": [
            " 2-sample f-test: \n",
            " The z-statistic is 1.028 and the p-value is 0.883.\n"
          ]
        }
      ]
    }
  ]
}