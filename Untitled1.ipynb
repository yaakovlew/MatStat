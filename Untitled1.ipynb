{
  "nbformat": 4,
  "nbformat_minor": 0,
  "metadata": {
    "colab": {
      "provenance": [],
      "collapsed_sections": []
    },
    "kernelspec": {
      "name": "python3",
      "display_name": "Python 3"
    },
    "language_info": {
      "name": "python"
    }
  },
  "cells": [
    {
      "cell_type": "code",
      "execution_count": 193,
      "metadata": {
        "id": "0ySbCJYYGfVt"
      },
      "outputs": [],
      "source": [
        "import openpyxl\n",
        "import matplotlib.pyplot as plt\n",
        "import numpy as np\n",
        "import pandas as pd"
      ]
    },
    {
      "cell_type": "code",
      "source": [
        "def mean(str, y): # Среднее столбца\n",
        "  sum = 0\n",
        "  for x in range(2, str.max_row + 1):\n",
        "    sum += float(str[x][y].value)\n",
        "  sum = sum / (str.max_row - 1)\n",
        "  return sum"
      ],
      "metadata": {
        "id": "_QvjGTskMvHh"
      },
      "execution_count": 194,
      "outputs": []
    },
    {
      "cell_type": "code",
      "source": [
        "def s(str, y): # Дисперсия столбца\n",
        "  sum = 0\n",
        "  m = mean(str, y)\n",
        "  for x in range(y, str.max_row + 1):\n",
        "    sum += float(str[x][y].value - m)**2\n",
        "  sum = sum / (str.max_row - 2)\n",
        "  return(sum)"
      ],
      "metadata": {
        "id": "8o23zHeIPNXN"
      },
      "execution_count": 195,
      "outputs": []
    },
    {
      "cell_type": "code",
      "source": [
        "def std(str, y): # с.к.о столбца\n",
        "  st = s(str, y)**0.5\n",
        "  return st"
      ],
      "metadata": {
        "id": "PgtBg9_QP_I9"
      },
      "execution_count": 196,
      "outputs": []
    },
    {
      "cell_type": "code",
      "source": [
        "def kas( str, y):\n",
        "  sum = 0\n",
        "  m = mean(str, y)\n",
        "  count = std(str, y)**3\n",
        "  for x in range(y, str.max_row + 1):\n",
        "    sum += float(str[x][y].value - m)**3\n",
        "  sum = (sum / (str.max_row - 1)) / count\n",
        "  return sum"
      ],
      "metadata": {
        "id": "4JCUyngBUA6D"
      },
      "execution_count": 197,
      "outputs": []
    },
    {
      "cell_type": "code",
      "source": [
        "def ke(str, y):\n",
        "  sum = 0\n",
        "  m = mean(str, y)\n",
        "  count = (std(str, y))**4\n",
        "  for x in range(y, str.max_row + 1):\n",
        "    sum += float(str[x][y].value - m)**4\n",
        "  sum = (sum / (str.max_row - 1)) / count - 3\n",
        "  return sum"
      ],
      "metadata": {
        "id": "cDpO-HTkY4o3"
      },
      "execution_count": 198,
      "outputs": []
    },
    {
      "cell_type": "code",
      "source": [
        "data = openpyxl.open(\"/content/data_matstat_K5.xlsx\", read_only = True)\n",
        "\n",
        "sheet = data.worksheets[4]"
      ],
      "metadata": {
        "id": "gqs6y8ypGmvz"
      },
      "execution_count": 199,
      "outputs": []
    },
    {
      "cell_type": "code",
      "source": [
        "#for D3\n",
        "print(\"В D3: среднее: %.3f, дисперсия: %.3f, с.к.о: %.3f, в.к.а: %.3f, в.э: %.3f\" %(mean(sheet, 2), s(sheet, 2), std(sheet, 2), kas(sheet, 2), ke(sheet, 2)))"
      ],
      "metadata": {
        "colab": {
          "base_uri": "https://localhost:8080/"
        },
        "id": "20AIuK5JRvVm",
        "outputId": "8e1d5761-5411-463c-c48c-4d13c00d2119"
      },
      "execution_count": 200,
      "outputs": [
        {
          "output_type": "stream",
          "name": "stdout",
          "text": [
            "В D3: среднее: 1260.444, дисперсия: 150972.870, с.к.о: 388.552, в.к.а: 1.349, в.э: 1.374\n"
          ]
        }
      ]
    },
    {
      "cell_type": "code",
      "source": [
        "#for D9\n",
        "print(\"В D9: среднее: %.3f, дисперсия: %.3f, с.к.о: %.3f, в.к.а: %.3f, в.э: %.3f\" %(mean(sheet, 8), s(sheet, 8), std(sheet, 8), kas(sheet, 8), ke(sheet, 8)))"
      ],
      "metadata": {
        "colab": {
          "base_uri": "https://localhost:8080/"
        },
        "id": "KqwKNbslX7Vz",
        "outputId": "5bb0c67a-7e35-4506-85ec-696a65602aa2"
      },
      "execution_count": 201,
      "outputs": [
        {
          "output_type": "stream",
          "name": "stdout",
          "text": [
            "В D9: среднее: 6.230, дисперсия: 0.196, с.к.о: 0.443, в.к.а: 1.229, в.э: 2.767\n"
          ]
        }
      ]
    },
    {
      "cell_type": "code",
      "source": [
        "#for D10\n",
        "print(\"В D10: среднее: %.3f, дисперсия: %.3f, с.к.о: %.3f, в.к.а: %.3f, в.э: %.3f\" %(mean(sheet, 9), s(sheet, 9), std(sheet, 9), kas(sheet, 9), ke(sheet, 9)))"
      ],
      "metadata": {
        "colab": {
          "base_uri": "https://localhost:8080/"
        },
        "id": "FPADAawZX-Dt",
        "outputId": "6a1b6a38-7cbf-48b9-895a-c11aa2bb5674"
      },
      "execution_count": 202,
      "outputs": [
        {
          "output_type": "stream",
          "name": "stdout",
          "text": [
            "В D10: среднее: 4.779, дисперсия: 2.571, с.к.о: 1.603, в.к.а: 0.479, в.э: -0.142\n"
          ]
        }
      ]
    },
    {
      "cell_type": "code",
      "source": [
        "#Because of data amount is bit, we will use for group: (Xmax - Xmin) / amount        for D3\n",
        "mas = list()\n",
        "for x in range(2, sheet.max_row + 1):\n",
        "  mas.append(sheet[x][2].value)\n",
        "mas.sort()\n",
        "ch = list()\n"
      ],
      "metadata": {
        "id": "kVDRxyaZfphm"
      },
      "execution_count": 203,
      "outputs": []
    },
    {
      "cell_type": "code",
      "source": [
        "#Гистограмма и полигон частот\n",
        "plt.figure(figsize=(14,7))\n",
        "\n",
        "count,division = np.histogram(df['D3'], bins=7)\n",
        "ar = []\n",
        "for i in range(len(division)-1):\n",
        "  ar.append(((division[i + 1] - division[i]) / 2) + division[i])\n",
        "\n",
        "df['D3'].hist(bins=7, density=False, color = 'red')\n",
        "plt.plot(ar, count)\n"
      ],
      "metadata": {
        "colab": {
          "base_uri": "https://localhost:8080/",
          "height": 445
        },
        "id": "sIHW88ewVfnh",
        "outputId": "72941f3a-a907-4460-a6ac-3fee37404ce5"
      },
      "execution_count": 204,
      "outputs": [
        {
          "output_type": "execute_result",
          "data": {
            "text/plain": [
              "[<matplotlib.lines.Line2D at 0x7faa5cb88c90>]"
            ]
          },
          "metadata": {},
          "execution_count": 204
        },
        {
          "output_type": "display_data",
          "data": {
            "text/plain": [
              "<Figure size 1008x504 with 1 Axes>"
            ],
            "image/png": "[encoded data removed]"
          },
          "metadata": {
            "needs_background": "light"
          }
        }
      ]
    },
    {
      "cell_type": "code",
      "source": [
        "df = pd.read_excel(\"/content/data_matstat_K5.xlsx\", sheet_name='D - homedat')"
      ],
      "metadata": {
        "id": "-zZoQ0ssXS4M"
      },
      "execution_count": 206,
      "outputs": []
    },
    {
      "cell_type": "code",
      "source": [
        "#Гистограмма и полигон относ.частот\n",
        "plt.figure()\n",
        "y = pd.cut(df['D3'], bins=7).value_counts(sort=False, normalize = True).values\n",
        "plt.bar(ar, y, width = 277, color = 'red')\n",
        "plt.plot(ar, y, color=\"blue\")"
      ],
      "metadata": {
        "colab": {
          "base_uri": "https://localhost:8080/",
          "height": 282
        },
        "id": "czpWCXyHgYMn",
        "outputId": "a92e4164-e1a7-40bf-bf38-1c63e9d67abc"
      },
      "execution_count": 205,
      "outputs": [
        {
          "output_type": "execute_result",
          "data": {
            "text/plain": [
              "[<matplotlib.lines.Line2D at 0x7faa5d94e810>]"
            ]
          },
          "metadata": {},
          "execution_count": 205
        },
        {
          "output_type": "display_data",
          "data": {
            "text/plain": [
              "<Figure size 432x288 with 1 Axes>"
            ],
            "image/png": "[encoded data removed]"
          },
          "metadata": {
            "needs_background": "light"
          }
        }
      ]
    },
    {
      "cell_type": "code",
      "source": [
        "#Гистограмма и полигон накопленных частот\n",
        "\n",
        "plt.figure()\n",
        "y1 = pd.cut(df['D3'], bins=7).value_counts(sort=False).cumsum()\n",
        "plt.bar(ar, y1, width = 277, color = 'red')\n",
        "plt.plot(ar, y1, color=\"blue\")"
      ],
      "metadata": {
        "colab": {
          "base_uri": "https://localhost:8080/",
          "height": 282
        },
        "id": "CfA4uahdheYa",
        "outputId": "8d1114a7-aaf2-4077-850b-385df38b14ca"
      },
      "execution_count": 207,
      "outputs": [
        {
          "output_type": "execute_result",
          "data": {
            "text/plain": [
              "[<matplotlib.lines.Line2D at 0x7faa5d0633d0>]"
            ]
          },
          "metadata": {},
          "execution_count": 207
        },
        {
          "output_type": "display_data",
          "data": {
            "text/plain": [
              "<Figure size 432x288 with 1 Axes>"
            ],
            "image/png": "[encoded data removed]"
          },
          "metadata": {
            "needs_background": "light"
          }
        }
      ]
    },
    {
      "cell_type": "code",
      "source": [
        "#Гистограмма и полигон накопленных относительных частот\n",
        "plt.figure(figsize=(14,7))\n",
        "y2 = pd.cut(df['D3'], bins=7).value_counts(sort=False, normalize = True).values.cumsum()\n",
        "plt.bar(ar, y2, width = 277, color = 'red')\n",
        "plt.plot(ar, y2, color=\"blue\")"
      ],
      "metadata": {
        "colab": {
          "base_uri": "https://localhost:8080/",
          "height": 445
        },
        "id": "wMF50RdWhsQn",
        "outputId": "3516b7c5-7539-492d-c561-30a08f679934"
      },
      "execution_count": 208,
      "outputs": [
        {
          "output_type": "execute_result",
          "data": {
            "text/plain": [
              "[<matplotlib.lines.Line2D at 0x7faa5d71ced0>]"
            ]
          },
          "metadata": {},
          "execution_count": 208
        },
        {
          "output_type": "display_data",
          "data": {
            "text/plain": [
              "<Figure size 1008x504 with 1 Axes>"
            ],
            "image/png": "[encoded data removed]"
          },
          "metadata": {
            "needs_background": "light"
          }
        }
      ]
    },
    {
      "cell_type": "code",
      "source": [
        "#Эмпирическая функция распределения\n",
        "\n",
        "from statsmodels.distributions.empirical_distribution import ECDF\n",
        "\n",
        "ecdf = ECDF(df['D3'])   # строим эмпирическую функцию по выборке\n",
        "\n",
        "plt.step(ecdf.x, ecdf.y, label='empirical CDF')\n",
        "plt.ylabel('$F(x)$', fontsize=20)\n",
        "plt.xlabel('$x$', fontsize=20);"
      ],
      "metadata": {
        "colab": {
          "base_uri": "https://localhost:8080/",
          "height": 288
        },
        "id": "ckuMOyneikJz",
        "outputId": "949c3707-f342-4f61-bcf1-e0bb445b2de2"
      },
      "execution_count": 209,
      "outputs": [
        {
          "output_type": "display_data",
          "data": {
            "text/plain": [
              "<Figure size 432x288 with 1 Axes>"
            ],
            "image/png": "[encoded data removed]"
          },
          "metadata": {
            "needs_background": "light"
          }
        }
      ]
    }
  ]
}