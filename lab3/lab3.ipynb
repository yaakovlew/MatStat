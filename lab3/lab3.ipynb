{
  "nbformat": 4,
  "nbformat_minor": 0,
  "metadata": {
    "colab": {
      "provenance": [],
      "collapsed_sections": [
        "NvGDrXANFs-n"
      ]
    },
    "kernelspec": {
      "name": "python3",
      "display_name": "Python 3"
    },
    "language_info": {
      "name": "python"
    }
  },
  "cells": [
    {
      "cell_type": "code",
      "metadata": {
        "colab": {
          "base_uri": "https://localhost:8080/"
        },
        "id": "Enip5juv9uJF",
        "outputId": "63f349d9-ba3d-41de-9b6e-e8a60710800a"
      },
      "source": [
        "import numpy as np         # библиотека для матриц и математики\n",
        "import pandas as pd        # библиотека для работы с табличками\n",
        "from scipy import stats    # модуль для работы со статистикой\n",
        "\n",
        "# библиотеки для визуализации\n",
        "import matplotlib.pyplot as plt\n",
        "import seaborn as sns\n",
        "\n",
        "import math\n",
        "\n",
        "from statsmodels.stats.weightstats import ztest as ztest\n",
        "\n",
        "plt.style.use('ggplot')    # стиль графиков\n",
        "\n",
        "%matplotlib inline"
      ],
      "execution_count": null,
      "outputs": [
        {
          "output_type": "stream",
          "name": "stderr",
          "text": [
            "/usr/local/lib/python3.7/dist-packages/statsmodels/tools/_testing.py:19: FutureWarning: pandas.util.testing is deprecated. Use the functions in the public API at pandas.testing instead.\n",
            "  import pandas.util.testing as tm\n"
          ]
        }
      ]
    },
    {
      "cell_type": "markdown",
      "metadata": {
        "id": "w7vaprpH-BXN"
      },
      "source": [
        "# Начальные данные\n"
      ]
    },
    {
      "cell_type": "code",
      "metadata": {
        "colab": {
          "base_uri": "https://localhost:8080/"
        },
        "id": "GJDfQu5C94Bm",
        "outputId": "256933c1-214f-44ed-b7f5-cd43a129d559"
      },
      "source": [
        "#for X1\n",
        "n1 = 100\n",
        "\n",
        "sample1 = stats.chi2(5).rvs(n1) \n",
        "\n",
        "mean1 = np.mean(sample1)\n",
        "var1 = np.var(sample1, ddof = 1)\n",
        "std1 = np.std(sample1)\n",
        "\n",
        "print(\"X1: mean1 = %.3f; var1 = %.3f; std1 = %.3f; n1 = %.3f\" % (mean1, var1, std1, n1))"
      ],
      "execution_count": null,
      "outputs": [
        {
          "output_type": "stream",
          "name": "stdout",
          "text": [
            "X1: mean1 = 4.165; var1 = 7.122; std1 = 2.655; n1 = 100.000\n"
          ]
        }
      ]
    },
    {
      "cell_type": "code",
      "metadata": {
        "colab": {
          "base_uri": "https://localhost:8080/"
        },
        "id": "0iwu_Da094Dp",
        "outputId": "0f772693-7194-4efd-f828-04e09e7094ee"
      },
      "source": [
        "#for X2\n",
        "n2 = 100\n",
        "\n",
        "sample2 = stats.chi2(5).rvs(n2) \n",
        "\n",
        "mean2 = np.mean(sample2)\n",
        "var2 = np.var(sample2, ddof = 1)\n",
        "std2 = np.std(sample2)\n",
        "\n",
        "print(\"X2: mean1 = %.3f; var2 = %.3f; std2 = %.3f; n2 = %.3f\" % (mean2, var2, std2, n2))"
      ],
      "execution_count": null,
      "outputs": [
        {
          "output_type": "stream",
          "name": "stdout",
          "text": [
            "X2: mean1 = 4.963; var2 = 8.136; std2 = 2.838; n2 = 100.000\n"
          ]
        }
      ]
    },
    {
      "cell_type": "code",
      "metadata": {
        "colab": {
          "base_uri": "https://localhost:8080/"
        },
        "id": "WseCvwoW94GH",
        "outputId": "175b5fb5-450b-4c88-f584-32f1b8f3062f"
      },
      "source": [
        "#for X3\n",
        "n3 = 200\n",
        "\n",
        "sample3 = stats.norm(loc=5, scale=3).rvs(n3) \n",
        "\n",
        "mean3 = np.mean(sample3)\n",
        "var3 = np.var(sample3, ddof = 1)\n",
        "std3 = np.std(sample3)\n",
        "\n",
        "print(\"X3: mean3 = %.3f; var3 = %.3f; std3 = %.3f; n3 = %.3f\" % (mean3, var3, std3, n3))"
      ],
      "execution_count": null,
      "outputs": [
        {
          "output_type": "stream",
          "name": "stdout",
          "text": [
            "X3: mean3 = 5.066; var3 = 9.924; std3 = 3.142; n3 = 200.000\n"
          ]
        }
      ]
    },
    {
      "cell_type": "code",
      "metadata": {
        "colab": {
          "base_uri": "https://localhost:8080/"
        },
        "id": "H7MC0m0k94IV",
        "outputId": "3960e7a2-069b-439c-dda6-972fb23c7b5f"
      },
      "source": [
        "#Pooled for X1, X2, X3\n",
        "\n",
        "mean_pol = (n1 * mean1 + n2 * mean2 + n3 * mean3)/(n1 + n2 + n3) \n",
        "var_pol = ((n1 - 1) * var1 + (n2 - 1) * var2 + (n3 - 1) * var3) / (n1 + n2 + n3 - 3) #вопрос\n",
        "std_pol = var_pol**1/2\n",
        "n_pol = n1 + n2 + n3\n",
        "print(\"Pooled for X1, X2, X3: mean_pol = %.3f; var_pol = %.3f; std_pol = %.3f; n_pol = %.3f\" % (mean_pol, var_pol, std_pol, n_pol))"
      ],
      "execution_count": null,
      "outputs": [
        {
          "output_type": "stream",
          "name": "stdout",
          "text": [
            "Pooled for X1, X2, X3: mean_pol = 4.815; var_pol = 8.779; std_pol = 4.390; n_pol = 400.000\n"
          ]
        }
      ]
    },
    {
      "cell_type": "markdown",
      "metadata": {
        "id": "NvGDrXANFs-n"
      },
      "source": [
        "# Boxplot"
      ]
    },
    {
      "cell_type": "code",
      "metadata": {
        "colab": {
          "base_uri": "https://localhost:8080/",
          "height": 499
        },
        "id": "6DYqrDYHBs_i",
        "outputId": "35c64608-d150-4a08-db9a-083ede7f7da9"
      },
      "source": [
        "#plt.boxplot(sample1)\n",
        "data = [sample1, sample2, sample3]\n",
        "\n",
        "fig = plt.figure(figsize =(10, 7))\n",
        "plt.boxplot(data)\n",
        "\n",
        "# Adding title\n",
        "plt.title(\"Box-and-Whisker\")\n",
        "\n",
        "# x-axis labels\n",
        "ax.set_yticklabels(['data_1', 'data_2',\n",
        "                    'data_3'])\n",
        "\n",
        "plt.show()"
      ],
      "execution_count": null,
      "outputs": [
        {
          "output_type": "stream",
          "name": "stderr",
          "text": [
            "/usr/local/lib/python3.7/dist-packages/numpy/core/_asarray.py:83: VisibleDeprecationWarning: Creating an ndarray from ragged nested sequences (which is a list-or-tuple of lists-or-tuples-or ndarrays with different lengths or shapes) is deprecated. If you meant to do this, you must specify 'dtype=object' when creating the ndarray\n",
            "  return array(a, dtype, copy=False, order=order)\n"
          ]
        },
        {
          "output_type": "display_data",
          "data": {
            "image/png": "[encoded data removed]",
            "text/plain": [
              "<Figure size 720x504 with 1 Axes>"
            ]
          },
          "metadata": {
            "needs_background": "light"
          }
        }
      ]
    },
    {
      "cell_type": "code",
      "metadata": {
        "colab": {
          "base_uri": "https://localhost:8080/",
          "height": 482
        },
        "id": "SMk-8gPzBtDX",
        "outputId": "e866727e-0014-4e9d-8789-69f0920eb9df"
      },
      "source": [
        "data = [sample1, sample2, sample3]\n",
        "\n",
        "fig = plt.figure(figsize =(10, 7))\n",
        "ax = fig.add_subplot(111)\n",
        "\n",
        "bp = ax.boxplot(data, patch_artist = True,\n",
        "                notch ='True', vert = 0)\n",
        "\n",
        "colors = ['#0000FF', '#00FF00',\n",
        "          '#FFFF00', '#FF00FF']\n",
        " \n",
        "for patch, color in zip(bp['boxes'], colors):\n",
        "    patch.set_facecolor(color)\n",
        " \n",
        "# changing color and linewidth of\n",
        "# whiskers\n",
        "for whisker in bp['whiskers']:\n",
        "    whisker.set(color ='#8B008B',\n",
        "                linewidth = 1.5,\n",
        "                linestyle =\":\")\n",
        "    \n"
      ],
      "execution_count": null,
      "outputs": [
        {
          "output_type": "stream",
          "name": "stderr",
          "text": [
            "/usr/local/lib/python3.7/dist-packages/numpy/core/_asarray.py:83: VisibleDeprecationWarning: Creating an ndarray from ragged nested sequences (which is a list-or-tuple of lists-or-tuples-or ndarrays with different lengths or shapes) is deprecated. If you meant to do this, you must specify 'dtype=object' when creating the ndarray\n",
            "  return array(a, dtype, copy=False, order=order)\n"
          ]
        },
        {
          "output_type": "display_data",
          "data": {
            "image/png": "[encoded data removed]",
            "text/plain": [
              "<Figure size 720x504 with 1 Axes>"
            ]
          },
          "metadata": {
            "needs_background": "light"
          }
        }
      ]
    },
    {
      "cell_type": "markdown",
      "metadata": {
        "id": "J907UCLkF6_M"
      },
      "source": [
        "# Проверка условия применимости дисперсионного анализа"
      ]
    },
    {
      "cell_type": "code",
      "metadata": {
        "colab": {
          "base_uri": "https://localhost:8080/"
        },
        "id": "vq0xfOdSF1Ha",
        "outputId": "505f3764-1819-4dc7-b006-6d7603a23afa"
      },
      "source": [
        "#критерий Бартлетта\n",
        "stats.bartlett(sample1, sample2, sample3)"
      ],
      "execution_count": null,
      "outputs": [
        {
          "output_type": "execute_result",
          "data": {
            "text/plain": [
              "BartlettResult(statistic=3.3445337931942825, pvalue=0.18782081232485848)"
            ]
          },
          "metadata": {},
          "execution_count": 72
        }
      ]
    },
    {
      "cell_type": "markdown",
      "metadata": {
        "id": "BgQOwOjQU-05"
      },
      "source": [
        "# Однофакторный дисперсионный анализ"
      ]
    },
    {
      "cell_type": "code",
      "metadata": {
        "colab": {
          "base_uri": "https://localhost:8080/"
        },
        "id": "XEDYkwx4AI6I",
        "outputId": "5494337a-3575-4798-a07d-351abb89fbdb"
      },
      "source": [
        "#Однофакторный дисперсионный анализ\n",
        "stats.f_oneway(sample1, sample2, sample3)"
      ],
      "execution_count": null,
      "outputs": [
        {
          "output_type": "execute_result",
          "data": {
            "text/plain": [
              "F_onewayResult(statistic=2.138478926748323, pvalue=0.11918935022426275)"
            ]
          },
          "metadata": {},
          "execution_count": 12
        }
      ]
    },
    {
      "cell_type": "code",
      "metadata": {
        "colab": {
          "base_uri": "https://localhost:8080/"
        },
        "id": "kYMSM-sGKOUt",
        "outputId": "dea4c1c5-036c-44b6-e16a-285ddcf0564b"
      },
      "source": [
        "K = 3\n",
        "n = n1 + n2 + n3\n",
        "mean = (sum(sample1) + sum(sample2) + sum(sample3))/n #общее среднее\n",
        "\n",
        "#общая дисперсия\n",
        "s = 0\n",
        "for ar in data:\n",
        "  for x in ar:\n",
        "    s += (x - mean)**2\n",
        "D_x = s/n\n",
        "\n",
        "#внутригрупповая дисперсиея\n",
        "s = 0\n",
        "for ar in data:\n",
        "  s = s + len(ar) * np.var(ar)\n",
        "D_w = s/n\n",
        "\n",
        "#межгрупповая дисперсия\n",
        "s = 0\n",
        "for ar in data:\n",
        "  s = s + len(ar) * (np.mean(ar) - mean)**2\n",
        "D_b = s/n\n",
        "\n",
        "#print(D_x)\n",
        "#print(D_w + D_b)\n",
        "\n",
        "print(\"D_b = %.3f\" % D_b)\n",
        "print(\"D_w = %.3f\" % D_w)\n",
        "print(\"D_x = %.3f\" % D_x)\n",
        "\n",
        "print('Несмещенная оценка групировочного признака: {z:.3f}'.format(z = (D_b * n)/(K - 1)))\n",
        "print('Несмещенная оценка остаточного признака: {z:.3f}'.format(z = (D_w * n)/(n - K)))\n",
        "print('Несмещенная оценка всех признаков: {z:.3f}'.format(z = (D_x * n)/(n - 1)))\n"
      ],
      "execution_count": null,
      "outputs": [
        {
          "output_type": "stream",
          "name": "stdout",
          "text": [
            "D_b = 0.111\n",
            "D_w = 10.311\n",
            "D_x = 10.422\n",
            "Несмещенная оценка групировочного признака: 22.215\n",
            "Несмещенная оценка остаточного признака: 10.388\n",
            "Несмещенная оценка всех признаков: 10.448\n"
          ]
        }
      ]
    },
    {
      "cell_type": "code",
      "metadata": {
        "colab": {
          "base_uri": "https://localhost:8080/"
        },
        "id": "D2ttS4fESaCC",
        "outputId": "dc56e413-4ce4-4a84-8af0-0126392d57c0"
      },
      "source": [
        "eta_squared = D_b / D_x   #эмпирический коэффициент детерминации\n",
        "eta = eta_squared ** (1/2)   #эмпирическое корреляционное отношение\n",
        "\n",
        "print(\"эмпирический коэффициент детерминации: %.3f\" % eta_squared)\n",
        "print(\"эмпирическое корреляционное отношение: %.3f\" % eta)\n"
      ],
      "execution_count": null,
      "outputs": [
        {
          "output_type": "stream",
          "name": "stdout",
          "text": [
            "эмпирический коэффициент детерминации: 0.011\n",
            "эмпирическое корреляционное отношение: 0.103\n"
          ]
        }
      ]
    },
    {
      "cell_type": "markdown",
      "metadata": {
        "id": "j99JIeV9Td75"
      },
      "source": [
        "# Метод линейных контрастов\n"
      ]
    },
    {
      "cell_type": "code",
      "metadata": {
        "colab": {
          "base_uri": "https://localhost:8080/"
        },
        "id": "DeItlkdDTgtQ",
        "outputId": "4b785277-a97b-41e1-dbe0-6d3eca1d7853"
      },
      "source": [
        "from statsmodels.stats.multicomp import pairwise_tukeyhsd\n",
        "from scipy.stats import f_oneway\n",
        "f_oneway(sample1, sample2, sample3)\n",
        "\n",
        "df = pd.DataFrame({'score': np.concatenate((sample1, sample2, sample3)),\n",
        "                   'group': np.concatenate((np.repeat(['data_1', 'data_2'], repeats=100) ,np.repeat(['data_3'], repeats=200)))}) \n",
        "\n",
        "tukey = pairwise_tukeyhsd(endog=df['score'],\n",
        "                          groups=df['group'],\n",
        "                          alpha=0.05)\n",
        "print(tukey)"
      ],
      "execution_count": null,
      "outputs": [
        {
          "output_type": "stream",
          "name": "stdout",
          "text": [
            "Multiple Comparison of Means - Tukey HSD, FWER=0.05\n",
            "===================================================\n",
            "group1 group2 meandiff p-adj   lower  upper  reject\n",
            "---------------------------------------------------\n",
            "data_1 data_2   0.2798 0.7928 -0.7925 1.3522  False\n",
            "data_1 data_3   0.7764  0.122 -0.1523 1.7051  False\n",
            "data_2 data_3   0.4966 0.4217 -0.4321 1.4253  False\n",
            "---------------------------------------------------\n"
          ]
        }
      ]
    },
    {
      "cell_type": "markdown",
      "metadata": {
        "id": "ZjpDH0e6gSmL"
      },
      "source": [
        "# Доверительные интервалы для мат ожиданий"
      ]
    },
    {
      "cell_type": "code",
      "metadata": {
        "id": "iLx4PiuqiI-W"
      },
      "source": [
        "alpha = 0.05\n",
        "\n",
        "c12 = mean1 - mean2\n",
        "c13 = mean1 - mean3\n",
        "c23 = mean2 - mean3\n",
        "var12 = (n * D_w) * (1/n1 + 1/n2) / (n - K)\n",
        "var13 = (n * D_w) * (1/n1 + 1/n3) / (n - K)\n",
        "var23 = (n * D_w) * (1/n2 + 1/n3) / (n - K)\n",
        "\n",
        "quantile_f = stats.f(K-1,n-K).ppf(1 - alpha)\n",
        "\n",
        "c12_lower = c12 - (var12 * (K-1) * quantile_f)**(1/2)\n",
        "c13_lower = c13 - (var13 * (K-1) * quantile_f)**(1/2)\n",
        "c23_lower = c23 - (var23 * (K-1) * quantile_f)**(1/2)\n",
        "\n",
        "c12_upper = c12 + (var12 * (K-1) * quantile_f)**(1/2)\n",
        "c13_upper = c13 + (var13 * (K-1) * quantile_f)**(1/2)\n",
        "c23_upper = c23 + (var23 * (K-1) * quantile_f)**(1/2)\n"
      ],
      "execution_count": null,
      "outputs": []
    },
    {
      "cell_type": "code",
      "metadata": {
        "colab": {
          "base_uri": "https://localhost:8080/",
          "height": 333
        },
        "id": "hDE_gXLGgZyi",
        "outputId": "df84bd63-b977-4e2c-e5a9-fdef424df10e"
      },
      "source": [
        "data_dict = {}\n",
        "data_dict['category'] = ['C12','C13','C23']\n",
        "data_dict['lower'] = [c12_lower, c13_lower, c23_lower]\n",
        "data_dict['upper'] = [c12_upper, c13_upper, c23_upper]\n",
        "dataset = pd.DataFrame(data_dict)\n",
        "\n",
        "for lower,upper,y in zip(dataset['lower'],dataset['upper'],range(len(dataset))):\n",
        "    plt.plot((lower,upper),(y,y),'ro-',color='orange')\n",
        "plt.yticks(range(len(dataset)),list(dataset['category']))"
      ],
      "execution_count": null,
      "outputs": [
        {
          "output_type": "execute_result",
          "data": {
            "text/plain": [
              "([<matplotlib.axis.YTick at 0x7f4305f46e50>,\n",
              "  <matplotlib.axis.YTick at 0x7f43061c8210>,\n",
              "  <matplotlib.axis.YTick at 0x7f4305fc0f50>],\n",
              " [Text(0, 0, 'C12'), Text(0, 0, 'C13'), Text(0, 0, 'C23')])"
            ]
          },
          "metadata": {},
          "execution_count": 66
        },
        {
          "output_type": "display_data",
          "data": {
            "image/png": "[encoded data removed]",
            "text/plain": [
              "<Figure size 432x288 with 1 Axes>"
            ]
          },
          "metadata": {
            "needs_background": "light"
          }
        }
      ]
    },
    {
      "cell_type": "code",
      "metadata": {
        "id": "QZ1TVzElgZ0u"
      },
      "source": [],
      "execution_count": null,
      "outputs": []
    }
  ]
}