{
  "nbformat": 4,
  "nbformat_minor": 0,
  "metadata": {
    "colab": {
      "provenance": [],
      "toc_visible": true
    },
    "kernelspec": {
      "name": "python3",
      "display_name": "Python 3"
    },
    "language_info": {
      "name": "python"
    }
  },
  "cells": [
    {
      "cell_type": "code",
      "execution_count": null,
      "metadata": {
        "id": "wwE32-EmlyGQ"
      },
      "outputs": [],
      "source": [
        "from scipy import stats\n",
        "from matplotlib import pyplot as plt \n",
        "import numpy as np\n",
        "from scipy.stats import norm\n",
        "from statsmodels.stats.descriptivestats import sign_test"
      ]
    },
    {
      "cell_type": "code",
      "source": [
        "M1 = 5\n",
        "M2 = 5\n",
        "S1 = 3\n",
        "S2 = 1\n",
        "n1 = 250\n",
        "n2 = 250"
      ],
      "metadata": {
        "id": "xE-3QU8UnZQJ"
      },
      "execution_count": null,
      "outputs": []
    },
    {
      "cell_type": "code",
      "source": [
        "sample1 = stats.norm(loc = M1, scale = S1**0.5).rvs(250) "
      ],
      "metadata": {
        "id": "nlGRC2RImVX-"
      },
      "execution_count": null,
      "outputs": []
    },
    {
      "cell_type": "code",
      "source": [
        "print('Среднее: %.3f ' %np.mean(sample1))\n",
        "print('Оценка дисперсии: %.3f' %np.var(sample1))\n",
        "print('Оценка с.к.о: %.3f' %np.std(sample1))"
      ],
      "metadata": {
        "colab": {
          "base_uri": "https://localhost:8080/"
        },
        "id": "Wc-mAvpinxCk",
        "outputId": "a4a9a5c9-0104-4c61-fed3-16e0ba88e00e"
      },
      "execution_count": null,
      "outputs": [
        {
          "output_type": "stream",
          "name": "stdout",
          "text": [
            "Среднее: 5.022 \n",
            "Оценка дисперсии: 2.753\n",
            "Оценка с.к.о: 1.659\n"
          ]
        }
      ]
    },
    {
      "cell_type": "code",
      "source": [
        "plt.hist(sample1, bins = 5, edgecolor = 'black', linewidth = 1.2)\n",
        "plt.show()\n",
        "plt.hist(sample1, bins = 10, edgecolor = 'black', linewidth = 1.2)\n",
        "plt.show()\n",
        "plt.hist(sample1, bins = 15, edgecolor = 'black', linewidth = 1.2)\n",
        "plt.show()\n",
        "plt.hist(sample1, bins = 20, edgecolor = 'black', linewidth = 1.2)\n",
        "plt.show()"
      ],
      "metadata": {
        "colab": {
          "base_uri": "https://localhost:8080/",
          "height": 1000
        },
        "id": "lriF8qRXW_kY",
        "outputId": "ed4eea79-5d90-4412-ad35-42fb100d0641"
      },
      "execution_count": null,
      "outputs": [
        {
          "output_type": "display_data",
          "data": {
            "text/plain": [
              "<Figure size 432x288 with 1 Axes>"
            ],
            "image/png": "[encoded data removed]"
          },
          "metadata": {
            "needs_background": "light"
          }
        },
        {
          "output_type": "display_data",
          "data": {
            "text/plain": [
              "<Figure size 432x288 with 1 Axes>"
            ],
            "image/png": "[encoded data removed]"
          },
          "metadata": {
            "needs_background": "light"
          }
        },
        {
          "output_type": "display_data",
          "data": {
            "text/plain": [
              "<Figure size 432x288 with 1 Axes>"
            ],
            "image/png": "[encoded data removed]"
          },
          "metadata": {
            "needs_background": "light"
          }
        },
        {
          "output_type": "display_data",
          "data": {
            "text/plain": [
              "<Figure size 432x288 with 1 Axes>"
            ],
            "image/png": "[encoded data removed]"
          },
          "metadata": {
            "needs_background": "light"
          }
        }
      ]
    },
    {
      "cell_type": "code",
      "source": [
        "frequencies_5 = plt.hist(sample1, bins = 5)[0]\n",
        "bins_border_5 = plt.hist(sample1, bins = 5)[1]\n",
        "center = list()\n",
        "for i in range(0, 5):\n",
        "  center.append((bins_border_5[i] + bins_border_5[i+1])/2)\n",
        "center_mean = 0\n",
        "for i in range(0, 5):\n",
        "  center_mean += frequencies_5[i] * center[i] / n1\n",
        "center_disp = 0\n",
        "for i in range(0, 5):\n",
        "  center_disp += (frequencies_5[i] * ( center[i] - center_mean)**2)/ (n1 - 1)\n",
        "probability = list()\n",
        "for i in range(0, 5):\n",
        "  probability.append((norm.cdf((bins_border_5[i + 1] - center_mean) / center_disp)  - norm.cdf((bins_border_5[i] - center_mean) / center_disp))*n1)\n",
        "z = 0\n",
        "for i in range(0, 5):\n",
        "  z += ((frequencies_5[i] - probability[i])**2)/probability[i]\n",
        "print(z)\n",
        "print(frequencies_5)\n",
        "print(probability)"
      ],
      "metadata": {
        "colab": {
          "base_uri": "https://localhost:8080/",
          "height": 317
        },
        "id": "iAhMQ8Ud8g6w",
        "outputId": "9914901e-3c25-49fa-9e89-62e7511c1949"
      },
      "execution_count": null,
      "outputs": [
        {
          "output_type": "stream",
          "name": "stdout",
          "text": [
            "46.18201707762016\n",
            "[14. 70. 76. 73. 17.]\n",
            "[29.24142194771668, 46.89778830277037, 55.30139785738232, 47.94775558348635, 30.565592077040737]\n"
          ]
        },
        {
          "output_type": "display_data",
          "data": {
            "text/plain": [
              "<Figure size 432x288 with 1 Axes>"
            ],
            "image/png": "[encoded data removed]"
          },
          "metadata": {
            "needs_background": "light"
          }
        }
      ]
    },
    {
      "cell_type": "code",
      "source": [
        "def mean(a):                                    #среднее между группировочными данными\n",
        "    b = [0]*(len(a) - 1)\n",
        "    for i in range(0, len(a)-1):\n",
        "        b[i] = ((a[i+1] + a[i]) / 2)\n",
        "    return b\n",
        "\n",
        "def getM(mean, frequencies, n):               #среднее всей выборки\n",
        "    m = 0\n",
        "    for i in range(0, len(mean)):\n",
        "        m += mean[i] * frequencies[i] \n",
        "    return m/n\n",
        "\n",
        "def getSigma(mean, frequencies, m, n):        #с.к.о всей выборки\n",
        "    s = 0\n",
        "    for i in range(0, len(mean)):\n",
        "        s += (mean[i] - m)**2 * frequencies[i]\n",
        "    return (s / (n - 1))**(1/2)\n",
        "\n",
        "def getNP_no_merge(val, freq, n1, m, sigma):              #подсчёт вероятностной и обычных частот\n",
        "  n  = list()\n",
        "  np = list()\n",
        "  npx = 0\n",
        "  nx = 0\n",
        "  distr = stats.norm(loc = m, scale = sigma)\n",
        "  for i in range(0, len(val) - 1):\n",
        "    npx = (distr.cdf(val[i + 1]) - distr.cdf(val[i])) * n1\n",
        "    nx = freq[i]\n",
        "    n.append(nx)\n",
        "    np.append(npx)\n",
        "     \n",
        "  return (n, np)\n",
        "\n",
        "def getZ(n, np):\n",
        "    z = 0\n",
        "    for i in range(0, len(n)):\n",
        "        z += (n[i] - np[i])**2 / np[i]\n",
        "    return z"
      ],
      "metadata": {
        "id": "gfSLBwVPPopN"
      },
      "execution_count": null,
      "outputs": []
    },
    {
      "cell_type": "code",
      "source": [
        "#критерий хи-квадрат\n",
        "\n",
        "frequencies_5 = plt.hist(sample1, bins=5)[0]\n",
        "values_5 = plt.hist(sample1, bins=5)[1]\n",
        "\n",
        "\n",
        "m = getM(mean(values_5), frequencies_5, n1)\n",
        "sigma = getSigma(mean(values_5), frequencies_5, m, n1)\n",
        "new_n, new_np = getNP_no_merge(values_5, frequencies_5 , n1, m, sigma)\n",
        "\n",
        "z = getZ(new_n, new_np)\n",
        "k = len(new_n)\n",
        "r = 2\n",
        "\n",
        "f_z_chi = stats.chi2.cdf(z, k - r - 1)\n",
        "p_value = 2 * min(f_z_chi, 1 - f_z_chi)\n",
        "\n",
        "print(new_np)\n",
        "print(frequencies_5)\n",
        "print(\"Number of grouping intervals 5\")\n",
        "print(\"chi-squared criteria for N: z = %.3f; p-value = %.3f\" % (z, p_value))"
      ],
      "metadata": {
        "colab": {
          "base_uri": "https://localhost:8080/",
          "height": 334
        },
        "id": "DvnvNbLSPpg7",
        "outputId": "94ed417a-82f7-47fd-de06-eda45343af99"
      },
      "execution_count": null,
      "outputs": [
        {
          "output_type": "stream",
          "name": "stdout",
          "text": [
            "[15.435586123316778, 58.34449223815968, 92.69997517807629, 62.090365916551484, 17.487852044656638]\n",
            "[14. 70. 76. 73. 17.]\n",
            "Number of grouping intervals 5\n",
            "chi-squared criteria for N: z = 7.401; p-value = 0.049\n"
          ]
        },
        {
          "output_type": "display_data",
          "data": {
            "text/plain": [
              "<Figure size 432x288 with 1 Axes>"
            ],
            "image/png": "[encoded data removed]"
          },
          "metadata": {
            "needs_background": "light"
          }
        }
      ]
    },
    {
      "cell_type": "code",
      "source": [
        "#критерий хи-квадрат\n",
        "\n",
        "frequencies_10 = plt.hist(sample1, bins=10)[0]\n",
        "values_10 = plt.hist(sample1, bins=10)[1]\n",
        "\n",
        "\n",
        "m = getM(mean(values_10), frequencies_10, n1)\n",
        "sigma = getSigma(mean(values_10), frequencies_10, m, n1)\n",
        "new_n, new_np = getNP_no_merge(values_10, frequencies_10, n1, m, sigma)\n",
        "\n",
        "z = getZ(new_n, new_np)\n",
        "k = len(new_n)\n",
        "r = 2\n",
        "\n",
        "f_z_chi = stats.chi2.cdf(z, k - r - 1)\n",
        "p_value = 2 * min(f_z_chi, 1 - f_z_chi)\n",
        "\n",
        "print(\"Number of grouping intervals 10\")\n",
        "print(\"chi-squared criteria for N: z = %.3f; p-value = %.3f\" % (z, p_value))"
      ],
      "metadata": {
        "colab": {
          "base_uri": "https://localhost:8080/",
          "height": 300
        },
        "id": "72UeBp30Pr4N",
        "outputId": "199591e7-f259-466c-a6e8-093be4e97f8b"
      },
      "execution_count": null,
      "outputs": [
        {
          "output_type": "stream",
          "name": "stdout",
          "text": [
            "Number of grouping intervals 10\n",
            "chi-squared criteria for N: z = 11.496; p-value = 0.237\n"
          ]
        },
        {
          "output_type": "display_data",
          "data": {
            "text/plain": [
              "<Figure size 432x288 with 1 Axes>"
            ],
            "image/png": "[encoded data removed]"
          },
          "metadata": {
            "needs_background": "light"
          }
        }
      ]
    },
    {
      "cell_type": "code",
      "source": [
        "#критерий хи-квадрат\n",
        "\n",
        "frequencies_15 = plt.hist(sample1, bins=15)[0]\n",
        "values_15 = plt.hist(sample1, bins=15)[1]\n",
        "\n",
        "\n",
        "m = getM(mean(values_15), frequencies_15, n1)\n",
        "sigma = getSigma(mean(values_15), frequencies_15, m, n1)\n",
        "new_n, new_np = getNP_no_merge(values_15, frequencies_15, n1, m, sigma)\n",
        "\n",
        "z = getZ(new_n, new_np)\n",
        "k = len(new_n)\n",
        "r = 2\n",
        "\n",
        "f_z_chi = stats.chi2.cdf(z, k - r - 1)\n",
        "p_value = 2 * min(f_z_chi, 1 - f_z_chi)\n",
        "\n",
        "print(\"Number of grouping intervals 15\")\n",
        "print(\"chi-squared criteria for N: z = %.3f; p-value = %.3f\" % (z, p_value))"
      ],
      "metadata": {
        "colab": {
          "base_uri": "https://localhost:8080/",
          "height": 300
        },
        "id": "kTFNJbtdPwDv",
        "outputId": "8cda7e06-4f36-4445-9f20-6a7e96bf3fa6"
      },
      "execution_count": null,
      "outputs": [
        {
          "output_type": "stream",
          "name": "stdout",
          "text": [
            "Number of grouping intervals 15\n",
            "chi-squared criteria for N: z = 15.399; p-value = 0.441\n"
          ]
        },
        {
          "output_type": "display_data",
          "data": {
            "text/plain": [
              "<Figure size 432x288 with 1 Axes>"
            ],
            "image/png": "[encoded data removed]"
          },
          "metadata": {
            "needs_background": "light"
          }
        }
      ]
    },
    {
      "cell_type": "code",
      "source": [
        "#критерий хи-квадрат\n",
        "\n",
        "frequencies_30 = plt.hist(sample1, bins=30)[0]\n",
        "values_30 = plt.hist(sample1, bins=30)[1]\n",
        "\n",
        "\n",
        "m = getM(mean(values_30), frequencies_30, n1)\n",
        "sigma = getSigma(mean(values_30), frequencies_30, m, n1)\n",
        "new_n, new_np = getNP_no_merge(values_30, frequencies_30, n1, m, sigma)\n",
        "\n",
        "z = getZ(new_n, new_np)\n",
        "k = len(new_n)\n",
        "r = 2\n",
        "\n",
        "f_z_chi = stats.chi2.cdf(z, k - r - 1)\n",
        "p_value = 2 * min(f_z_chi, 1 - f_z_chi)\n",
        "\n",
        "print(\"Number of grouping intervals 30\")\n",
        "print(\"chi-squared criteria for N : z = %.3f; p-value = %.3f\" % (z, p_value))"
      ],
      "metadata": {
        "colab": {
          "base_uri": "https://localhost:8080/",
          "height": 300
        },
        "id": "el4F6MKzPy6f",
        "outputId": "e4ab2e86-58fc-45d7-d995-1e8591cb56e8"
      },
      "execution_count": null,
      "outputs": [
        {
          "output_type": "stream",
          "name": "stdout",
          "text": [
            "Number of grouping intervals 30\n",
            "chi-squared criteria for N : z = 32.068; p-value = 0.459\n"
          ]
        },
        {
          "output_type": "display_data",
          "data": {
            "text/plain": [
              "<Figure size 432x288 with 1 Axes>"
            ],
            "image/png": "[encoded data removed]"
          },
          "metadata": {
            "needs_background": "light"
          }
        }
      ]
    },
    {
      "cell_type": "markdown",
      "source": [
        "Для равномерного распределения"
      ],
      "metadata": {
        "id": "9lfKeWXDauRh"
      }
    },
    {
      "cell_type": "code",
      "source": [
        "#критерий хи-квадрат для R\n",
        "def getNP_R(val, freq, n1, a, b):\n",
        "    n  = list()\n",
        "    np = list()\n",
        "    npx = 0\n",
        "    nx = 0\n",
        "    dis = stats.uniform(loc = a, scale = b - a)\n",
        "    for i in range(0, len(val) - 1):\n",
        "        npx += (dis.cdf(val[i + 1]) - dis.cdf(val[i])) * n1\n",
        "        nx += freq[i]\n",
        "        if npx > 5:\n",
        "            n.append(nx)\n",
        "            np.append(npx)\n",
        "            nx = 0\n",
        "            npx = 0\n",
        "        elif (npx < 5) and (i == len(val) - 2):\n",
        "            n[len(n) - 1] = nx + n[len(n) - 1]\n",
        "            np[len(np) - 1] = npx + np[len(np) - 1]\n",
        "    return (n, np)\n"
      ],
      "metadata": {
        "id": "6q1Lw8H1asOC"
      },
      "execution_count": null,
      "outputs": []
    },
    {
      "cell_type": "code",
      "source": [
        "#5 intervals\n",
        "m = getM(mean(values_5), frequencies_5, n1 ) \n",
        "sigma = getSigma(mean(values_5), frequencies_5, m, n1 )\n",
        "a = 1/2 * (2*m - sigma * (12)**(1/2))\n",
        "b = 1/2 * (2*m + sigma * (12)**(1/2))\n",
        "\n",
        "new_n, new_np = getNP_R(values_5, frequencies_5 , n1, a, b)\n",
        "\n",
        "z = getZ(new_n, new_np)\n",
        "k = len(new_n)\n",
        "r = 2\n",
        "\n",
        "f_z_chi = stats.chi2.cdf(z, k - r - 1)\n",
        "p_value = 2 * min(f_z_chi, 1 - f_z_chi)\n",
        "\n",
        "print(\"Number of grouping intervals 5\")\n",
        "print(\"chi-squared criteria for R: z = %.3f; p-value = \" %z, p_value)\n"
      ],
      "metadata": {
        "colab": {
          "base_uri": "https://localhost:8080/"
        },
        "id": "WYyTtY0uay6-",
        "outputId": "22c42d6e-8986-4ef3-e1f3-f7e0456e9656"
      },
      "execution_count": null,
      "outputs": [
        {
          "output_type": "stream",
          "name": "stdout",
          "text": [
            "Number of grouping intervals 5\n",
            "chi-squared criteria for R: z = 3.084; p-value =  0.4280081073359292\n"
          ]
        }
      ]
    },
    {
      "cell_type": "code",
      "source": [
        "#10 intervals\n",
        "m = getM(mean(values_10), frequencies_10, n1 ) \n",
        "sigma = getSigma(mean(values_10), frequencies_10, m, n1 )\n",
        "a = 1/2 * (2*m - sigma * (12)**(1/2))\n",
        "b = 1/2 * (2*m + sigma * (12)**(1/2))\n",
        "\n",
        "new_n, new_np = getNP_R(values_10, frequencies_10 , n1, a, b)\n",
        "\n",
        "z = getZ(new_n, new_np)\n",
        "k = len(new_n)\n",
        "r = 2\n",
        "\n",
        "f_z_chi = stats.chi2.cdf(z, k - r - 1)\n",
        "p_value = 2 * min(f_z_chi, 1 - f_z_chi)\n",
        "\n",
        "print(\"Number of grouping intervals 10\")\n",
        "print(\"chi-squared criteria for R: z = %.3f; p-value = \" %z, p_value)\n"
      ],
      "metadata": {
        "colab": {
          "base_uri": "https://localhost:8080/"
        },
        "id": "m-d46bo8a3X6",
        "outputId": "d7e50170-0e37-4c36-9481-447ea7630479"
      },
      "execution_count": null,
      "outputs": [
        {
          "output_type": "stream",
          "name": "stdout",
          "text": [
            "Number of grouping intervals 10\n",
            "chi-squared criteria for R: z = 15.333; p-value =  0.01805776907132417\n"
          ]
        }
      ]
    },
    {
      "cell_type": "code",
      "source": [
        "#15 intervals\n",
        "m = getM(mean(values_15), frequencies_15, n1 ) \n",
        "sigma = getSigma(mean(values_15), frequencies_15, m, n1 )\n",
        "a = 1/2 * (2*m - sigma * (12)**(1/2))\n",
        "b = 1/2 * (2*m + sigma * (12)**(1/2))\n",
        "\n",
        "new_n, new_np = getNP_R(values_15, frequencies_15 , n1, a, b)\n",
        "\n",
        "z = getZ(new_n, new_np)\n",
        "k = len(new_n)\n",
        "r = 2\n",
        "\n",
        "f_z_chi = stats.chi2.cdf(z, k - r - 1)\n",
        "p_value = 2 * min(f_z_chi, 1 - f_z_chi)\n",
        "\n",
        "print(\"Number of grouping intervals 15\")\n",
        "print(\"chi-squared criteria for R: z = %.3f; p-value = \" %z, p_value)\n"
      ],
      "metadata": {
        "colab": {
          "base_uri": "https://localhost:8080/"
        },
        "id": "yMWqpZLWf80H",
        "outputId": "7181aedf-74b2-4f9f-f08d-7f6cb6108e1e"
      },
      "execution_count": null,
      "outputs": [
        {
          "output_type": "stream",
          "name": "stdout",
          "text": [
            "Number of grouping intervals 15\n",
            "chi-squared criteria for R: z = 17.377; p-value =  0.052821668882671036\n"
          ]
        }
      ]
    },
    {
      "cell_type": "code",
      "source": [
        "#30 intervals\n",
        "m = getM(mean(values_30), frequencies_30, n1 ) \n",
        "sigma = getSigma(mean(values_30), frequencies_30, m, n1 )\n",
        "a = 1/2 * (2*m - sigma * (12)**(1/2))\n",
        "b = 1/2 * (2*m + sigma * (12)**(1/2))\n",
        "\n",
        "new_n, new_np = getNP_R(values_30, frequencies_30 , n1, a, b)\n",
        "\n",
        "z = getZ(new_n, new_np)\n",
        "k = len(new_n)\n",
        "r = 2\n",
        "\n",
        "f_z_chi = stats.chi2.cdf(z, k - r - 1)\n",
        "p_value = 2 * min(f_z_chi, 1 - f_z_chi)\n",
        "\n",
        "print(\"Number of grouping intervals 30\")\n",
        "print(\"chi-squared criteria for R: z = %.3f; p-value = %.3f\" % (z, p_value))\n"
      ],
      "metadata": {
        "colab": {
          "base_uri": "https://localhost:8080/"
        },
        "id": "UW-_l2v3kC-p",
        "outputId": "e4095ed0-fb9a-41fd-cf5c-6a6da1914cb9"
      },
      "execution_count": null,
      "outputs": [
        {
          "output_type": "stream",
          "name": "stdout",
          "text": [
            "Number of grouping intervals 30\n",
            "chi-squared criteria for R: z = 37.500; p-value = 0.009\n"
          ]
        }
      ]
    },
    {
      "cell_type": "markdown",
      "source": [
        "Для ХИ-квадрат распределения:"
      ],
      "metadata": {
        "id": "OZ2TQLcCkJMb"
      }
    },
    {
      "cell_type": "code",
      "source": [
        "alpha = 0.1"
      ],
      "metadata": {
        "id": "KRN7JrO8kvuv"
      },
      "execution_count": null,
      "outputs": []
    },
    {
      "cell_type": "code",
      "source": [
        "def getNP(val, freq, n1):\n",
        "    n  = list()\n",
        "    np = list()\n",
        "    npx = 0\n",
        "    nx = 0\n",
        "    dis = stats.chi2(5)\n",
        "    for i in range(0, len(val) - 1):\n",
        "        npx += (dis.cdf(val[i + 1]) - dis.cdf(val[i])) * n1\n",
        "        nx += freq[i]\n",
        "        if npx > 5:\n",
        "            n.append(nx)\n",
        "            np.append(npx)\n",
        "            nx = 0\n",
        "            npx = 0\n",
        "        elif (npx < 5) and (i == len(val) - 2):\n",
        "            n[len(n) - 1] = nx + n[len(n) - 1]\n",
        "            np[len(np) - 1] = npx + np[len(np) - 1]\n",
        "    return (n, np)"
      ],
      "metadata": {
        "id": "QGrupHUlkNvH"
      },
      "execution_count": null,
      "outputs": []
    },
    {
      "cell_type": "code",
      "source": [
        "#5 intervals\n",
        "new_n, new_np = getNP(values_5, frequencies_5 , n1)\n",
        "\n",
        "z = getZ(new_n, new_np)\n",
        "k = len(new_n)\n",
        "r = 1\n",
        "\n",
        "f_z_chi = stats.chi2.cdf(z, k - r - 1)\n",
        "p_value = 2 * min(f_z_chi, 1 - f_z_chi)\n",
        "\n",
        "print(\"Number of grouping intervals 5\")\n",
        "print(\"chi-squared criteria for R: z = %.3f; p-value = \" %z, p_value)\n",
        "print('Критическое значение: %.3f' % (stats.chi2(k-r-1).ppf(1 - alpha)))"
      ],
      "metadata": {
        "colab": {
          "base_uri": "https://localhost:8080/"
        },
        "id": "iTmEV867kjT2",
        "outputId": "35a4c97f-4f80-4283-bb3d-c4685c3fc851"
      },
      "execution_count": null,
      "outputs": [
        {
          "output_type": "stream",
          "name": "stdout",
          "text": [
            "Number of grouping intervals 5\n",
            "chi-squared criteria for R: z = 81.517; p-value =  0.0\n",
            "Критическое значение: 6.251\n"
          ]
        }
      ]
    },
    {
      "cell_type": "code",
      "source": [
        "#10 intervals\n",
        "new_n, new_np = getNP(values_10, frequencies_10 , n1)\n",
        "\n",
        "z = getZ(new_n, new_np)\n",
        "k = len(new_n)\n",
        "r = 1\n",
        "\n",
        "f_z_chi = stats.chi2.cdf(z, k - r - 1)\n",
        "p_value = 2 * min(f_z_chi, 1 - f_z_chi)\n",
        "\n",
        "print(\"Number of grouping intervals 10\")\n",
        "print(\"chi-squared criteria for R: z = %.3f; p-value = \" %z, p_value)\n",
        "print('Критическое значение: %.3f' % (stats.chi2(k-r-1).ppf(1 - alpha)))"
      ],
      "metadata": {
        "colab": {
          "base_uri": "https://localhost:8080/"
        },
        "id": "pZQ6esJNklp1",
        "outputId": "a03ca1c1-4a36-468e-f088-018dc314dbd4"
      },
      "execution_count": null,
      "outputs": [
        {
          "output_type": "stream",
          "name": "stdout",
          "text": [
            "Number of grouping intervals 10\n",
            "chi-squared criteria for R: z = 103.370; p-value =  0.0\n",
            "Критическое значение: 13.362\n"
          ]
        }
      ]
    },
    {
      "cell_type": "code",
      "source": [
        "#15 intervals\n",
        "new_n, new_np = getNP(values_15, frequencies_15 , n1)\n",
        "\n",
        "z = getZ(new_n, new_np)\n",
        "k = len(new_n)\n",
        "r = 1\n",
        "\n",
        "f_z_chi = stats.chi2.cdf(z, k - r - 1)\n",
        "p_value = 2 * min(f_z_chi, 1 - f_z_chi)\n",
        "\n",
        "print(\"Number of grouping intervals 15\")\n",
        "print(\"chi-squared criteria for R: z = %.3f; p-value = \" %z, p_value)\n",
        "print('Критическое значение: %.3f' % (stats.chi2(k-r-1).ppf(1 - alpha)))"
      ],
      "metadata": {
        "colab": {
          "base_uri": "https://localhost:8080/"
        },
        "id": "aCIoj3nDk_vd",
        "outputId": "83e379ac-7e0f-4c58-9962-2427742a098e"
      },
      "execution_count": null,
      "outputs": [
        {
          "output_type": "stream",
          "name": "stdout",
          "text": [
            "Number of grouping intervals 15\n",
            "chi-squared criteria for R: z = 104.482; p-value =  4.440892098500626e-16\n",
            "Критическое значение: 19.812\n"
          ]
        }
      ]
    },
    {
      "cell_type": "code",
      "source": [
        "#30 intervals\n",
        "new_n, new_np = getNP(values_30, frequencies_30 , n1)\n",
        "\n",
        "z = getZ(new_n, new_np)\n",
        "k = len(new_n)\n",
        "r = 1\n",
        "\n",
        "f_z_chi = stats.chi2.cdf(z, k - r - 1)\n",
        "p_value = 2 * min(f_z_chi, 1 - f_z_chi)\n",
        "\n",
        "print(\"Number of grouping intervals 30\")\n",
        "print(\"chi-squared criteria for R: z = %.3f; p-value = \" %z, p_value)\n",
        "print('Критическое значение: %.3f' % (stats.chi2(k-r-1).ppf(1 - alpha)))"
      ],
      "metadata": {
        "colab": {
          "base_uri": "https://localhost:8080/"
        },
        "id": "JAd-qqhblGF2",
        "outputId": "8f36722d-7366-4098-f2eb-a810dfe98366"
      },
      "execution_count": null,
      "outputs": [
        {
          "output_type": "stream",
          "name": "stdout",
          "text": [
            "Number of grouping intervals 30\n",
            "chi-squared criteria for R: z = 113.016; p-value =  3.339550858072471e-13\n",
            "Критическое значение: 33.196\n"
          ]
        }
      ]
    },
    {
      "cell_type": "markdown",
      "source": [
        "Критерий Колмагорова:"
      ],
      "metadata": {
        "id": "Rv6f_a6TlgxL"
      }
    },
    {
      "cell_type": "code",
      "source": [
        "alpha = 0.05\n",
        "m = sample1.mean()\n",
        "sigma = sample1.std()\n",
        "a = 1/2 * (2*m - sigma * (12)**(1/2))\n",
        "b = 1/2 * (2*m + sigma * (12)**(1/2))\n",
        "test_N = stats.kstest(sample1, stats.norm(m, sigma).cdf)\n",
        "test_R = stats.kstest(sample1, stats.uniform(a, b - a).cdf)\n",
        "test_chi = stats.kstest(sample1, stats.chi2(5).cdf)\n",
        "\n",
        "print('Нормальное распределение: z = {z:.3f}, p-value = {p_value:.3f}'.format(z =test_N[0] , p_value = test_N[1]))\n",
        "print('Равномерное распределение: z = {z:.3f}, p-value = {p_value:.3f}'.format(z =test_R[0] , p_value = test_R[1]))\n",
        "print('Распределение хи-квадрат: z = {z:.3f}, p-value = {p_value:.3f}'.format(z =test_chi[0] , p_value = test_chi[1]))\n",
        "\n"
      ],
      "metadata": {
        "colab": {
          "base_uri": "https://localhost:8080/"
        },
        "id": "cEUGsCxnlgEM",
        "outputId": "841d44f7-203e-45c4-be29-6e9710ac824c"
      },
      "execution_count": null,
      "outputs": [
        {
          "output_type": "stream",
          "name": "stdout",
          "text": [
            "Нормальное распределение: z = 0.053, p-value = 0.461\n",
            "Равномерное распределение: z = 0.068, p-value = 0.192\n",
            "Распределение хи-квадрат: z = 0.197, p-value = 0.000\n"
          ]
        }
      ]
    },
    {
      "cell_type": "code",
      "source": [
        "from statsmodels.distributions.empirical_distribution import ECDF\n",
        "\n",
        "ecdf = ECDF(sample1)   # строим эмпирическую функцию по выборке\n",
        "grid = np.linspace(0, 10, 1000) \n",
        "plt.step(ecdf.x, ecdf.y, label='empirical CDF')\n",
        "plt.ylabel('$F(x)$', fontsize=7)\n",
        "plt.xlabel('$x$', fontsize=7);\n",
        "#x = np.arange(0, 10, 0.01)\n",
        "#plt.plot(x,norm. pdf(x, 5, 3), linewidth = 4)\n",
        "#data = stats.uniform.rvs(size = 10, loc = 5, scale=3**0.5)\n",
        "#plt.plot(data/len(sample1), linewidth = 4)\n",
        "#data1 = stats.chi2(5).rvs(n1)\n",
        "#x = np.arange (0, 10, 0.001)\n",
        "plt.plot(grid, stats.uniform(a,b).cdf(grid), label = \"uniform(a,b)-cdf\", linewidth=1.2)\n",
        "plt.plot(grid, stats.norm(5,3**0.5).cdf(grid), label = \"norm(5,3**0.5)-cdf\", linewidth=1.2)\n",
        "plt.plot(grid, stats.chi(5).cdf(grid), label = \"chi(5)-cdf\", linewidth=1.2)\n",
        "\n",
        "#plot Chi-square distribution with 4 degrees of freedom\n",
        "#plt.plot (x, chi2. pdf (x, df= 5)) \n",
        "#plt.legend()"
      ],
      "metadata": {
        "colab": {
          "base_uri": "https://localhost:8080/",
          "height": 294
        },
        "id": "UaJHkIH5QRiV",
        "outputId": "0adfd350-502f-49e0-f4dc-acb3c4272a1b"
      },
      "execution_count": null,
      "outputs": [
        {
          "output_type": "execute_result",
          "data": {
            "text/plain": [
              "[<matplotlib.lines.Line2D at 0x7f856ed90110>]"
            ]
          },
          "metadata": {},
          "execution_count": 70
        },
        {
          "output_type": "display_data",
          "data": {
            "text/plain": [
              "<Figure size 432x288 with 1 Axes>"
            ],
            "image/png": "[encoded data removed]"
          },
          "metadata": {
            "needs_background": "light"
          }
        }
      ]
    },
    {
      "cell_type": "code",
      "source": [
        "#2 выборка\n",
        "sample2 = stats.norm(loc = M2, scale = S2**0.5).rvs(250) "
      ],
      "metadata": {
        "id": "kA-dNSz2Sm8l"
      },
      "execution_count": null,
      "outputs": []
    },
    {
      "cell_type": "code",
      "source": [
        "print('Среднее: %.3f ' %np.mean(sample2))\n",
        "print('Оценка дисперсии: %.3f' %np.var(sample2))\n",
        "print('Оценка с.к.о: %.3f' %np.std(sample2))"
      ],
      "metadata": {
        "colab": {
          "base_uri": "https://localhost:8080/"
        },
        "id": "Wh6uAHooS-4x",
        "outputId": "509f3d54-210a-42fb-d0d1-55230f2ef09a"
      },
      "execution_count": null,
      "outputs": [
        {
          "output_type": "stream",
          "name": "stdout",
          "text": [
            "Среднее: 5.019 \n",
            "Оценка дисперсии: 0.935\n",
            "Оценка с.к.о: 0.967\n"
          ]
        }
      ]
    },
    {
      "cell_type": "code",
      "source": [
        "#Chi-squared\n",
        "\n",
        "result = plt.hist(sample1,  bins=10, density=False, alpha=0.6, label='Гистограмма частот')\n",
        "frequencies_X = result[0]\n",
        "\n",
        "result = plt.hist(sample2,  bins=10, density=False, alpha=0.6, label='Гистограмма частот')\n",
        "frequencies_Y = result[0]\n",
        "\n",
        "ans = stats.chisquare(f_obs = frequencies_X, f_exp = frequencies_Y)\n",
        "\n",
        "print('Сhi-squared test: z = {z:.3f}, p-value = {p_value:}'.format(z =ans[0] , p_value = ans[1]))\n",
        "frequencies_Y"
      ],
      "metadata": {
        "colab": {
          "base_uri": "https://localhost:8080/",
          "height": 300
        },
        "id": "QEUDv1-UTBFP",
        "outputId": "cd8fa265-e4b4-4efd-9b9b-afc138958cb3"
      },
      "execution_count": null,
      "outputs": [
        {
          "output_type": "stream",
          "name": "stdout",
          "text": [
            "Сhi-squared test: z = 14.397, p-value = 0.10889567326996592\n"
          ]
        },
        {
          "output_type": "execute_result",
          "data": {
            "text/plain": [
              "array([ 3.,  4., 13., 37., 48., 64., 38., 24., 15.,  4.])"
            ]
          },
          "metadata": {},
          "execution_count": 98
        },
        {
          "output_type": "display_data",
          "data": {
            "text/plain": [
              "<Figure size 432x288 with 1 Axes>"
            ],
            "image/png": "[encoded data removed]"
          },
          "metadata": {
            "needs_background": "light"
          }
        }
      ]
    },
    {
      "cell_type": "code",
      "source": [
        "#KS-test\n",
        "\n",
        "ans = stats.ks_2samp(sample1, sample2)\n",
        "print('KS-test: z = {z:.3f}, p-value = {p_value:.3f}'.format(z =ans[0] , p_value = ans[1]))"
      ],
      "metadata": {
        "colab": {
          "base_uri": "https://localhost:8080/"
        },
        "id": "REKlDeivV6_w",
        "outputId": "42efd6c8-1b8f-4226-ffbf-b84e9b7c00ff"
      },
      "execution_count": null,
      "outputs": [
        {
          "output_type": "stream",
          "name": "stdout",
          "text": [
            "KS-test: z = 0.136, p-value = 0.020\n"
          ]
        }
      ]
    },
    {
      "cell_type": "code",
      "source": [
        "#Sign test\n",
        "ans = sign_test(sample1, sample2)\n",
        "print('Sign test: z = {z:.3f}, p-value = {p_value:.3f}'.format(z =ans[0] , p_value = ans[1]))\n",
        "ans[0]"
      ],
      "metadata": {
        "colab": {
          "base_uri": "https://localhost:8080/"
        },
        "id": "cnaO_gdOWByy",
        "outputId": "8c5dab7b-3acc-4191-9e91-0be94a154472"
      },
      "execution_count": null,
      "outputs": [
        {
          "output_type": "stream",
          "name": "stdout",
          "text": [
            "Sign test: z = 2.000, p-value = 0.850\n"
          ]
        },
        {
          "output_type": "execute_result",
          "data": {
            "text/plain": [
              "2.0"
            ]
          },
          "metadata": {},
          "execution_count": 102
        }
      ]
    },
    {
      "cell_type": "code",
      "source": [
        "#U-test\n",
        "\n",
        "ans = stats.ranksums(sample1, sample2)\n",
        "print('U-test: z = {z:.3f}, p-value = {p_value:.3f}'.format(z =ans[0] , p_value = ans[1]))\n",
        "\n",
        "ans1 = stats.wilcoxon(sample1, sample2)\n",
        "ans1"
      ],
      "metadata": {
        "colab": {
          "base_uri": "https://localhost:8080/"
        },
        "id": "WvL_11xIWVg8",
        "outputId": "5c0e7e36-ccb0-436a-ed55-3aba4294da8f"
      },
      "execution_count": null,
      "outputs": [
        {
          "output_type": "stream",
          "name": "stdout",
          "text": [
            "U-test: z = 0.417, p-value = 0.677\n"
          ]
        },
        {
          "output_type": "execute_result",
          "data": {
            "text/plain": [
              "WilcoxonResult(statistic=15266.0, pvalue=0.7126648828344786)"
            ]
          },
          "metadata": {},
          "execution_count": 103
        }
      ]
    },
    {
      "cell_type": "code",
      "source": [
        "#ECDF\n",
        "from statsmodels.distributions.empirical_distribution import ECDF\n",
        "\n",
        "ecdf = ECDF(sample1)   # строим эмпирическую функцию по выборке\n",
        "ecdf2 = ECDF(sample2)\n",
        "\n",
        "plt.step(ecdf.x, ecdf.y, label='empirical CDF')\n",
        "plt.ylabel('$F(x)$', fontsize=20)\n",
        "plt.xlabel('$x$', fontsize=20);\n",
        "\n",
        "plt.step(ecdf2.x, ecdf2.y, label='empirical CDF')\n",
        "plt.ylabel('$F(x)$', fontsize=20)\n",
        "plt.xlabel('$x$', fontsize=20);"
      ],
      "metadata": {
        "colab": {
          "base_uri": "https://localhost:8080/",
          "height": 288
        },
        "id": "UpsFYbpVapeE",
        "outputId": "dec5f91f-2702-40b5-b9f2-91d6b37cea22"
      },
      "execution_count": null,
      "outputs": [
        {
          "output_type": "display_data",
          "data": {
            "text/plain": [
              "<Figure size 432x288 with 1 Axes>"
            ],
            "image/png": "[encoded data removed]"
          },
          "metadata": {
            "needs_background": "light"
          }
        }
      ]
    },
    {
      "cell_type": "code",
      "source": [
        "#чужое решение\n",
        "#U-test\n",
        "\n",
        "ans = stats.ranksums(sample1, sample2)\n",
        "print('U-test: z = {z:.3f}, p-value = {p_value:.3f}'.format(z =ans[0] , p_value = ans[1]))\n",
        "\n",
        "ans1 = stats.wilcoxon(sample1, sample2)\n",
        "ans1"
      ],
      "metadata": {
        "colab": {
          "base_uri": "https://localhost:8080/"
        },
        "id": "0BRAcR0xJ2RE",
        "outputId": "0383e0d8-90ca-4c1d-f6aa-9617393db0cb"
      },
      "execution_count": null,
      "outputs": [
        {
          "output_type": "stream",
          "name": "stdout",
          "text": [
            "U-test: z = 0.422, p-value = 0.673\n"
          ]
        },
        {
          "output_type": "execute_result",
          "data": {
            "text/plain": [
              "WilcoxonResult(statistic=14963.0, pvalue=0.5267197724437065)"
            ]
          },
          "metadata": {},
          "execution_count": 16
        }
      ]
    },
    {
      "cell_type": "code",
      "source": [
        "#Sign test\n",
        "sample2 = stats.chi2(5).rvs(250)\n",
        "ans = sign_test(sample1, sample2)\n",
        "print('Sign test: z = {z:.3f}, p-value = {p_value:.3f}'.format(z =ans[0] , p_value = ans[1]))\n",
        "ans[0]"
      ],
      "metadata": {
        "colab": {
          "base_uri": "https://localhost:8080/"
        },
        "id": "SXqweCd-KrKx",
        "outputId": "933024e5-e451-4773-8eef-c0340332a4dd"
      },
      "execution_count": null,
      "outputs": [
        {
          "output_type": "stream",
          "name": "stdout",
          "text": [
            "Sign test: z = 8.000, p-value = 0.343\n"
          ]
        },
        {
          "output_type": "execute_result",
          "data": {
            "text/plain": [
              "8.0"
            ]
          },
          "metadata": {},
          "execution_count": 18
        }
      ]
    },
    {
      "cell_type": "code",
      "source": [
        "#KS-test\n",
        "\n",
        "ans = stats.ks_2samp(sample1, sample2)\n",
        "print('KS-test: z = {z:.3f}, p-value = {p_value:.3f}'.format(z =ans[0] , p_value = ans[1]))"
      ],
      "metadata": {
        "colab": {
          "base_uri": "https://localhost:8080/"
        },
        "id": "aW4YwpHuLBUD",
        "outputId": "b139e52b-4c0d-4380-8e90-bd8d8d318cd3"
      },
      "execution_count": null,
      "outputs": [
        {
          "output_type": "stream",
          "name": "stdout",
          "text": [
            "KS-test: z = 0.180, p-value = 0.001\n"
          ]
        }
      ]
    },
    {
      "cell_type": "code",
      "source": [
        "#Chi-squared\n",
        "\n",
        "result = plt.hist(sample1,  bins=10, density=False, alpha=0.6, label='Гистограмма частот')\n",
        "frequencies_X = result[0]\n",
        "\n",
        "result = plt.hist(sample2,  bins=10, density=False, alpha=0.6, label='Гистограмма частот')\n",
        "frequencies_Y = result[0]\n",
        "\n",
        "ans = stats.chisquare(f_obs = frequencies_X, f_exp = frequencies_Y)\n",
        "\n",
        "print('Сhi-squared test: z = {z:.3f}, p-value = {p_value:.3f}'.format(z =ans[0] , p_value = ans[1]))\n",
        "frequencies_Y"
      ],
      "metadata": {
        "colab": {
          "base_uri": "https://localhost:8080/",
          "height": 300
        },
        "id": "HcbOvYoNLGx6",
        "outputId": "fcc64e04-d352-441e-9a45-9a9f796f1b6b"
      },
      "execution_count": null,
      "outputs": [
        {
          "output_type": "stream",
          "name": "stdout",
          "text": [
            "Сhi-squared test: z = 947.238, p-value = 0.000\n"
          ]
        },
        {
          "output_type": "execute_result",
          "data": {
            "text/plain": [
              "array([32., 70., 67., 44., 18.,  5.,  7.,  4.,  1.,  2.])"
            ]
          },
          "metadata": {},
          "execution_count": 20
        },
        {
          "output_type": "display_data",
          "data": {
            "text/plain": [
              "<Figure size 432x288 with 1 Axes>"
            ],
            "image/png": "[encoded data removed]"
          },
          "metadata": {
            "needs_background": "light"
          }
        }
      ]
    }
  ]
}