{
  "nbformat": 4,
  "nbformat_minor": 0,
  "metadata": {
    "colab": {
      "provenance": []
    },
    "kernelspec": {
      "name": "python3",
      "display_name": "Python 3"
    },
    "language_info": {
      "name": "python"
    }
  },
  "cells": [
    {
      "cell_type": "code",
      "execution_count": null,
      "metadata": {
        "id": "v9in6LZU7h6B"
      },
      "outputs": [],
      "source": [
        "import pandas as pd\n",
        "import numpy as np\n",
        "import matplotlib.pyplot as plt\n",
        "import scipy.stats as stats"
      ]
    },
    {
      "cell_type": "code",
      "source": [
        "!pip install openpyxl"
      ],
      "metadata": {
        "colab": {
          "base_uri": "https://localhost:8080/"
        },
        "id": "YcaTXq-K-jqb",
        "outputId": "b94429af-c803-40c5-8309-7b93fb58dd8d"
      },
      "execution_count": null,
      "outputs": [
        {
          "output_type": "stream",
          "name": "stdout",
          "text": [
            "Looking in indexes: https://pypi.org/simple, https://us-python.pkg.dev/colab-wheels/public/simple/\n",
            "Requirement already satisfied: openpyxl in /usr/local/lib/python3.7/dist-packages (3.0.10)\n",
            "Requirement already satisfied: et-xmlfile in /usr/local/lib/python3.7/dist-packages (from openpyxl) (1.1.0)\n"
          ]
        }
      ]
    },
    {
      "cell_type": "markdown",
      "source": [
        "**4 Задание**"
      ],
      "metadata": {
        "id": "UJwJ2Gnfpz04"
      }
    },
    {
      "cell_type": "code",
      "source": [
        "df = pd.read_excel(\"/content/data_matstat_K5.xlsx\", sheet_name = \"D - homedat\")['D3'].to_numpy()"
      ],
      "metadata": {
        "id": "cW-Flm2x8zMQ"
      },
      "execution_count": null,
      "outputs": []
    },
    {
      "cell_type": "code",
      "source": [
        "print(\"Длина: \", len(df))\n",
        "print(\"Среднее: \", np.mean(df))\n",
        "print(\"Дисперсия:\", np.var(df))\n",
        "print(\"с.к.о: \", np.std(df))\n"
      ],
      "metadata": {
        "colab": {
          "base_uri": "https://localhost:8080/"
        },
        "id": "NrWeHpQcLwZN",
        "outputId": "2ab27d11-4975-400f-e5f9-380bc61698c3"
      },
      "execution_count": null,
      "outputs": [
        {
          "output_type": "stream",
          "name": "stdout",
          "text": [
            "Длина:  117\n",
            "Среднее:  1260.4444444444443\n",
            "Дисперсия: 149682.5033238367\n",
            "с.к.о:  386.88823104849894\n"
          ]
        }
      ]
    },
    {
      "cell_type": "code",
      "source": [
        "k = 7\n",
        "frequencies = (plt.hist(df, bins = k, edgecolor = \"black\", linewidth = 1.2))[0]"
      ],
      "metadata": {
        "colab": {
          "base_uri": "https://localhost:8080/",
          "height": 265
        },
        "id": "1sy99mNzL6B6",
        "outputId": "de2d84f3-9363-4788-8152-a8c7eae841b8"
      },
      "execution_count": null,
      "outputs": [
        {
          "output_type": "display_data",
          "data": {
            "text/plain": [
              "<Figure size 432x288 with 1 Axes>"
            ],
            "image/png": "[encoded data removed]"
          },
          "metadata": {
            "needs_background": "light"
          }
        }
      ]
    },
    {
      "cell_type": "code",
      "source": [
        "n = len(df)\n",
        "relative_frec = list()\n",
        "for i in frequencies:\n",
        "  relative_frec.append(i/n)\n",
        "values = plt.hist(df, bins = k)[1]\n",
        "print(relative_frec)"
      ],
      "metadata": {
        "colab": {
          "base_uri": "https://localhost:8080/",
          "height": 302
        },
        "id": "oZvMBHsoNi_e",
        "outputId": "51cc0560-0a76-4a77-ff34-f004a3e7a73f"
      },
      "execution_count": null,
      "outputs": [
        {
          "output_type": "stream",
          "name": "stdout",
          "text": [
            "[0.17094017094017094, 0.36752136752136755, 0.2222222222222222, 0.11965811965811966, 0.03418803418803419, 0.03418803418803419, 0.05128205128205128]\n"
          ]
        },
        {
          "output_type": "display_data",
          "data": {
            "text/plain": [
              "<Figure size 432x288 with 1 Axes>"
            ],
            "image/png": "[encoded data removed]"
          },
          "metadata": {
            "needs_background": "light"
          }
        }
      ]
    },
    {
      "cell_type": "code",
      "source": [
        "mean = np.mean(df)\n",
        "std = np.std(df)\n",
        "p = list()\n",
        "count,division = np.histogram(df, bins=k)\n",
        "for i in range(1, len(division)):\n",
        "  p.append(stats.norm(loc = mean, scale = std).cdf(division[i]) - stats.norm(loc = mean, scale = std).cdf(division[i-1]))\n",
        "print(p)"
      ],
      "metadata": {
        "colab": {
          "base_uri": "https://localhost:8080/"
        },
        "id": "D0fjn1UQQ2H2",
        "outputId": "66caa5f4-8d7f-4a64-d7dd-6de1ab3c8bd1"
      },
      "execution_count": null,
      "outputs": [
        {
          "output_type": "stream",
          "name": "stdout",
          "text": [
            "[0.13389384508554236, 0.22455454016675014, 0.2512724840108399, 0.18761144741799007, 0.0934520828188603, 0.031042616979024995, 0.0068723554371324935]\n"
          ]
        }
      ]
    },
    {
      "cell_type": "code",
      "source": [
        "#Построить гистограмму относительных частот и функцию плотности\n",
        "\n",
        "x = np.linspace(0, 3000, 10000)\n",
        "norm_rv = stats.norm(loc = mean, scale = std)\n",
        "pdf = norm_rv.pdf(x)\n",
        "plt.show()\n",
        "# плотность \n",
        "plt.plot(x, pdf, lw=3)\n",
        "b = plt.hist(df, bins=k, density=True, color = \"blue\", edgecolor = 'black', linewidth = 1.2)[1]\n",
        "print(b)\n"
      ],
      "metadata": {
        "colab": {
          "base_uri": "https://localhost:8080/",
          "height": 300
        },
        "id": "ErVH8G2AehPy",
        "outputId": "b09558a8-fddc-449d-ea05-31c944a0c5a4"
      },
      "execution_count": null,
      "outputs": [
        {
          "output_type": "stream",
          "name": "stdout",
          "text": [
            "[ 690.          940.42857143 1190.85714286 1441.28571429 1691.71428571\n",
            " 1942.14285714 2192.57142857 2443.        ]\n"
          ]
        },
        {
          "output_type": "display_data",
          "data": {
            "text/plain": [
              "<Figure size 432x288 with 1 Axes>"
            ],
            "image/png": "[encoded data removed]"
          },
          "metadata": {
            "needs_background": "light"
          }
        }
      ]
    },
    {
      "cell_type": "code",
      "source": [
        "data = df\n",
        "fig = plt.figure()\n",
        "ax = fig.add_subplot (111)\n",
        "ax.hist (data, edgecolor='black', bins = 7, weights=np.ones_like (data) / (len (data) * 400)) \n",
        "plt.plot (x, stats.norm. pdf (x, mean, std))"
      ],
      "metadata": {
        "colab": {
          "base_uri": "https://localhost:8080/",
          "height": 282
        },
        "id": "zREMRu9jzr9Y",
        "outputId": "4f96a3a7-e2b3-4f1b-d858-bfa653890750"
      },
      "execution_count": null,
      "outputs": [
        {
          "output_type": "execute_result",
          "data": {
            "text/plain": [
              "[<matplotlib.lines.Line2D at 0x7fe65e8808d0>]"
            ]
          },
          "metadata": {},
          "execution_count": 52
        },
        {
          "output_type": "display_data",
          "data": {
            "text/plain": [
              "<Figure size 432x288 with 1 Axes>"
            ],
            "image/png": "[encoded data removed]"
          },
          "metadata": {
            "needs_background": "light"
          }
        }
      ]
    },
    {
      "cell_type": "code",
      "source": [
        "#Критерий Пирсона:\n",
        "z = 0\n",
        "for i in range(len(frequencies)):\n",
        "  z += ((n * p[i] - frequencies[i])**2)/(n * p[i])\n",
        "print(z)\n",
        "r = 2\n",
        "f_z_chi = stats.chi2(k - r - 1).cdf(z)\n",
        "p_value =  1 - f_z_chi\n",
        "print(p_value)"
      ],
      "metadata": {
        "colab": {
          "base_uri": "https://localhost:8080/"
        },
        "id": "3Q8M9AGdgeip",
        "outputId": "7a7e5be5-247f-4b67-a5df-def88670baa2"
      },
      "execution_count": null,
      "outputs": [
        {
          "output_type": "stream",
          "name": "stdout",
          "text": [
            "53.1326111210918\n",
            "7.994271911115902e-11\n"
          ]
        }
      ]
    },
    {
      "cell_type": "code",
      "source": [
        "stats.jarque_bera(df)"
      ],
      "metadata": {
        "colab": {
          "base_uri": "https://localhost:8080/"
        },
        "id": "XF4gTyABh--T",
        "outputId": "786593f5-00ff-4aa7-fdf4-56baee374b8f"
      },
      "execution_count": null,
      "outputs": [
        {
          "output_type": "execute_result",
          "data": {
            "text/plain": [
              "Jarque_beraResult(statistic=46.639277329367246, pvalue=7.454348249780196e-11)"
            ]
          },
          "metadata": {},
          "execution_count": 86
        }
      ]
    },
    {
      "cell_type": "markdown",
      "source": [
        "### **5 задание**"
      ],
      "metadata": {
        "id": "JPSgI8qZp7Cv"
      }
    },
    {
      "cell_type": "code",
      "source": [
        "X = pd.read_excel(\"/content/data_matstat_K5.xlsx\", sheet_name = \"D - homedat\")['D2'].to_numpy()\n",
        "Y = pd.read_excel(\"/content/data_matstat_K5.xlsx\", sheet_name = \"D - homedat\")['D3'].to_numpy()"
      ],
      "metadata": {
        "id": "XseLI2szp_NE"
      },
      "execution_count": null,
      "outputs": []
    },
    {
      "cell_type": "code",
      "source": [
        "n1 = len(X)\n",
        "n2 = len(Y)\n",
        "print(n1, n2)"
      ],
      "metadata": {
        "colab": {
          "base_uri": "https://localhost:8080/"
        },
        "id": "RP2Yc-mBsEJO",
        "outputId": "24073afc-9ada-425e-ad1b-0b13a55b6b78"
      },
      "execution_count": null,
      "outputs": [
        {
          "output_type": "stream",
          "name": "stdout",
          "text": [
            "117 117\n"
          ]
        }
      ]
    },
    {
      "cell_type": "code",
      "source": [
        "ans = stats.wilcoxon(X, Y)\n",
        "print('Sign test: z = {z:.3f}, p-value = {p_value:.3f}'.format(z =ans[0] , p_value = ans[1]))\n"
      ],
      "metadata": {
        "id": "KC6jJp_1jdvl"
      },
      "execution_count": null,
      "outputs": []
    },
    {
      "cell_type": "code",
      "source": [
        "#критерий знаков\n",
        "k = 0\n",
        "for i in range(117):\n",
        "  if (Y[i] - X[i] > 0):\n",
        "    k += 1\n",
        "k = k /n1\n",
        "z1 = 2 * (n1 ** 0.5)*( k - 0.5)\n",
        "print(z1)\n",
        "u = stats.norm(loc = 0, scale = 1).cdf(z1)\n",
        "p_value = 2 * min(u, 1 - u)\n",
        "print(p_value)"
      ],
      "metadata": {
        "colab": {
          "base_uri": "https://localhost:8080/"
        },
        "id": "aN55UOJ5uKNe",
        "outputId": "c6f911e0-6a0f-41cd-8a61-147e5df2cacc"
      },
      "execution_count": null,
      "outputs": [
        {
          "output_type": "stream",
          "name": "stdout",
          "text": [
            "8.228052910674233\n",
            "2.220446049250313e-16\n"
          ]
        }
      ]
    },
    {
      "cell_type": "code",
      "source": [
        "frequencies_X = plt.hist(X, bins = 7, edgecolor = \"black\", linewidth = 1.2, alpha = 0.4)[0]\n",
        "frequencies_Y = plt.hist(Y, bins = 7, edgecolor = \"black\", linewidth = 1.2, alpha = 0.4)[0]"
      ],
      "metadata": {
        "colab": {
          "base_uri": "https://localhost:8080/",
          "height": 282
        },
        "id": "YH5hsJolyLMU",
        "outputId": "3ca67d57-c6c6-4117-cf92-bd15698bd957"
      },
      "execution_count": null,
      "outputs": [
        {
          "output_type": "stream",
          "name": "stdout",
          "text": [
            "[15. 46. 31.  9.  5.  5.  6.]\n"
          ]
        },
        {
          "output_type": "display_data",
          "data": {
            "text/plain": [
              "<Figure size 432x288 with 1 Axes>"
            ],
            "image/png": "[encoded data removed]"
          },
          "metadata": {
            "needs_background": "light"
          }
        }
      ]
    },
    {
      "cell_type": "code",
      "source": [
        "rel_X = list() \n",
        "rel_Y = list() \n",
        "nX = len(X)\n",
        "nY = len(Y)\n",
        "z2 = 0\n",
        "k = 7\n",
        "for i in  range(len(frequencies_X)):\n",
        "  rel_X.append(frequencies_X[i]/len(X))\n",
        "  rel_Y.append(frequencies_Y[i]/len(Y))\n",
        "for i in range(7):\n",
        "  z2 += nX * nY / (frequencies_X[i] + frequencies_Y[i]) * ((rel_X[i] - rel_Y[i])**2)\n",
        "print(z2)\n",
        "p_value = 1 - stats.chi2(k - 2 - 1).cdf(z2)\n",
        "print(p_value)"
      ],
      "metadata": {
        "colab": {
          "base_uri": "https://localhost:8080/"
        },
        "id": "O34oNaTg0djJ",
        "outputId": "5f823cde-4b23-4952-8238-45824dee9bc0"
      },
      "execution_count": null,
      "outputs": [
        {
          "output_type": "stream",
          "name": "stdout",
          "text": [
            "2.5631845449807553\n",
            "0.6333584735908363\n"
          ]
        }
      ]
    },
    {
      "cell_type": "code",
      "source": [
        "plt.hist(X, bins = 7, edgecolor = \"black\", linewidth = 1.2, alpha = 0.4, density = True)[0]\n",
        "plt.hist(Y, bins = 7, edgecolor = \"black\", linewidth = 1.2, alpha = 0.4, density = True)[0]"
      ],
      "metadata": {
        "colab": {
          "base_uri": "https://localhost:8080/",
          "height": 300
        },
        "id": "m1bVTesF3q9n",
        "outputId": "881a6bce-6554-4e67-c62a-67131e02dd8c"
      },
      "execution_count": null,
      "outputs": [
        {
          "output_type": "execute_result",
          "data": {
            "text/plain": [
              "array([0.00068259, 0.00146757, 0.00088737, 0.00047781, 0.00013652,\n",
              "       0.00013652, 0.00020478])"
            ]
          },
          "metadata": {},
          "execution_count": 117
        },
        {
          "output_type": "display_data",
          "data": {
            "text/plain": [
              "<Figure size 432x288 with 1 Axes>"
            ],
            "image/png": "[encoded data removed]"
          },
          "metadata": {
            "needs_background": "light"
          }
        }
      ]
    },
    {
      "cell_type": "code",
      "source": [
        "a = plt.hist(X, bins = 7, edgecolor = \"black\", linewidth = 1.2, alpha = 0.4)[0]\n",
        "b = plt.hist(Y, bins = 7, edgecolor = \"black\", linewidth = 1.2, alpha = 0.4)[0]\n",
        "print(a)\n",
        "print(b)"
      ],
      "metadata": {
        "colab": {
          "base_uri": "https://localhost:8080/",
          "height": 300
        },
        "id": "NcXr8P9VmnbO",
        "outputId": "09753fe7-80a8-41ca-ff10-b6701ba2e1cb"
      },
      "execution_count": null,
      "outputs": [
        {
          "output_type": "stream",
          "name": "stdout",
          "text": [
            "[15. 46. 31.  9.  5.  5.  6.]\n",
            "[20. 43. 26. 14.  4.  4.  6.]\n"
          ]
        },
        {
          "output_type": "display_data",
          "data": {
            "text/plain": [
              "<Figure size 432x288 with 1 Axes>"
            ],
            "image/png": "[encoded data removed]"
          },
          "metadata": {
            "needs_background": "light"
          }
        }
      ]
    },
    {
      "cell_type": "code",
      "source": [
        "data = X\n",
        "fig = plt.figure()\n",
        "ax = fig.add_subplot (111)\n",
        "ax.hist (data, edgecolor='black', bins = 7, weights=np.ones_like (data) / len (data), alpha = 0.3) \n",
        "data1 = Y\n",
        "fig1 = plt.figure()\n",
        "ax = fig1.add_subplot (111)\n",
        "ax.hist (data1, edgecolor='black', bins = 7, weights=np.ones_like (data1) / len (data1), color = \"red\", alpha = 0.3) "
      ],
      "metadata": {
        "id": "1r2gamaB2lMW"
      },
      "execution_count": null,
      "outputs": []
    },
    {
      "cell_type": "code",
      "source": [
        "plt.hist(data1, edgecolor='black', bins = 7, weights=np.ones_like (data1) / len (data1), color = \"red\", alpha = 0.3)\n",
        "plt.hist(data, edgecolor='black', bins = 7, weights=np.ones_like (data) / len (data), alpha = 0.3)"
      ],
      "metadata": {
        "colab": {
          "base_uri": "https://localhost:8080/",
          "height": 352
        },
        "id": "Aw0FTARi45xM",
        "outputId": "308ba41b-060b-454b-b63b-3877d1a5448d"
      },
      "execution_count": null,
      "outputs": [
        {
          "output_type": "execute_result",
          "data": {
            "text/plain": [
              "(array([0.12820513, 0.39316239, 0.26495726, 0.07692308, 0.04273504,\n",
              "        0.04273504, 0.05128205]),\n",
              " array([ 594.        ,  838.71428571, 1083.42857143, 1328.14285714,\n",
              "        1572.85714286, 1817.57142857, 2062.28571429, 2307.        ]),\n",
              " <a list of 7 Patch objects>)"
            ]
          },
          "metadata": {},
          "execution_count": 66
        },
        {
          "output_type": "display_data",
          "data": {
            "text/plain": [
              "<Figure size 432x288 with 1 Axes>"
            ],
            "image/png": "[encoded data removed]"
          },
          "metadata": {
            "needs_background": "light"
          }
        }
      ]
    },
    {
      "cell_type": "markdown",
      "source": [
        "\n",
        "\n",
        "## Задание №6 Таблица сопряжённости"
      ],
      "metadata": {
        "id": "MKMrFu8MBB1w"
      }
    },
    {
      "cell_type": "code",
      "source": [
        "df1 = pd.read_excel(\"/content/data_matstat_K5.xlsx\", sheet_name = \"D - homedat\")['D8'].to_numpy()\n",
        "df2 = pd.read_excel(\"/content/data_matstat_K5.xlsx\", sheet_name = \"D - homedat\")['D12'].to_numpy()"
      ],
      "metadata": {
        "id": "g-iSDAlgBHBj"
      },
      "execution_count": null,
      "outputs": []
    },
    {
      "cell_type": "code",
      "source": [
        "print(df1)\n",
        "print(df2)"
      ],
      "metadata": {
        "id": "Rcz69jGnCQps",
        "colab": {
          "base_uri": "https://localhost:8080/"
        },
        "outputId": "7fedc00d-ad2e-42f5-9278-84633f9e79d1"
      },
      "execution_count": null,
      "outputs": [
        {
          "output_type": "stream",
          "name": "stdout",
          "text": [
            "['Y' 'Y' 'Y' 'Y' 'Y' 'N' 'N' 'Y' 'N' 'Y' 'N' 'N' 'N' 'Y' 'Y' 'N' 'N' 'N'\n",
            " 'N' 'N' 'N' 'N' 'N' 'N' 'N' 'N' 'N' 'N' 'Y' 'Y' 'N' 'N' 'N' 'N' 'Y' 'N'\n",
            " 'N' 'N' 'N' 'N' 'N' 'N' 'N' 'N' 'N' 'N' 'Y' 'Y' 'Y' 'Y' 'N' 'N' 'N' 'Y'\n",
            " 'N' 'N' 'N' 'N' 'Y' 'N' 'N' 'N' 'N' 'N' 'N' 'N' 'N' 'N' 'N' 'N' 'N' 'N'\n",
            " 'N' 'N' 'N' 'Y' 'N' 'N' 'Y' 'Y' 'N' 'N' 'Y' 'N' 'N' 'N' 'N' 'N' 'Y' 'N'\n",
            " 'N' 'N' 'N' 'Y' 'Y' 'Y' 'Y' 'N' 'N' 'N' 'N' 'N' 'N' 'N' 'N' 'N' 'N' 'N'\n",
            " 'N' 'N' 'N' 'N' 'N' 'N' 'N' 'N' 'N']\n",
            "['Y' 'Y' 'Y' 'Y' 'Y' 'Y' 'Y' 'Y' 'Y' 'Y' 'Y' 'Y' 'N' 'N' 'N' 'N' 'N' 'N'\n",
            " 'N' 'N' 'N' 'N' 'N' 'N' 'Y' 'N' 'Y' 'Y' 'N' 'Y' 'Y' 'N' 'N' 'Y' 'N' 'N'\n",
            " 'N' 'N' 'N' 'N' 'N' 'Y' 'N' 'N' 'Y' 'N' 'N' 'N' 'N' 'Y' 'Y' 'Y' 'Y' 'Y'\n",
            " 'N' 'Y' 'N' 'N' 'N' 'N' 'N' 'N' 'N' 'N' 'N' 'N' 'N' 'N' 'N' 'N' 'N' 'N'\n",
            " 'N' 'Y' 'N' 'N' 'N' 'N' 'Y' 'N' 'Y' 'Y' 'Y' 'N' 'N' 'N' 'N' 'N' 'Y' 'N'\n",
            " 'N' 'N' 'N' 'N' 'Y' 'Y' 'N' 'N' 'Y' 'N' 'N' 'N' 'Y' 'N' 'N' 'N' 'N' 'N'\n",
            " 'N' 'Y' 'N' 'N' 'Y' 'N' 'N' 'N' 'N']\n"
          ]
        }
      ]
    },
    {
      "cell_type": "code",
      "source": [
        "kN1 = 0\n",
        "kY1 = 0\n",
        "kN2 = 0\n",
        "kY2 = 0\n",
        "for i in df1:\n",
        "  if  (i == 'N'):\n",
        "      kN1+=1\n",
        "  else:\n",
        "    kY1+=1\n",
        "for i in df2:\n",
        "  if  (i == 'N'):\n",
        "    kN2+=1\n",
        "  else:\n",
        "    kY2+=1\n",
        "print(kN1, kY1, kN2, kY2)"
      ],
      "metadata": {
        "colab": {
          "base_uri": "https://localhost:8080/"
        },
        "id": "dw2DQYARGsR3",
        "outputId": "5b2a691b-e3b0-4ec5-cc4f-9f19d89e0956"
      },
      "execution_count": null,
      "outputs": [
        {
          "output_type": "stream",
          "name": "stdout",
          "text": [
            "90 27 79 38\n"
          ]
        }
      ]
    },
    {
      "cell_type": "code",
      "source": [
        "k1 = 90 * 79 /117\n",
        "print(k1)"
      ],
      "metadata": {
        "colab": {
          "base_uri": "https://localhost:8080/"
        },
        "id": "q6bv4Rn6QjNe",
        "outputId": "5ed3bb41-6b10-42d5-f03f-8050af4d060a"
      },
      "execution_count": null,
      "outputs": [
        {
          "output_type": "stream",
          "name": "stdout",
          "text": [
            "60.76923076923077\n"
          ]
        }
      ]
    },
    {
      "cell_type": "code",
      "source": [
        "k2 = 90*38 / 117\n",
        "print(k2)"
      ],
      "metadata": {
        "colab": {
          "base_uri": "https://localhost:8080/"
        },
        "id": "Vf1xhucNQuV6",
        "outputId": "279420cb-9abb-45a3-e66c-7e297fa06c45"
      },
      "execution_count": null,
      "outputs": [
        {
          "output_type": "stream",
          "name": "stdout",
          "text": [
            "29.23076923076923\n"
          ]
        }
      ]
    },
    {
      "cell_type": "code",
      "source": [
        "k3 = 79* 27 / 117\n",
        "print(k3)"
      ],
      "metadata": {
        "colab": {
          "base_uri": "https://localhost:8080/"
        },
        "id": "ZczFgYSBQvl7",
        "outputId": "6817ad84-91db-4a0f-d8fd-55611b9974e1"
      },
      "execution_count": null,
      "outputs": [
        {
          "output_type": "stream",
          "name": "stdout",
          "text": [
            "18.23076923076923\n"
          ]
        }
      ]
    },
    {
      "cell_type": "code",
      "source": [
        "k4 = 27*38 / 117\n",
        "print(k4)"
      ],
      "metadata": {
        "colab": {
          "base_uri": "https://localhost:8080/"
        },
        "id": "LIcljAL-Q1mU",
        "outputId": "1310e114-68d7-4102-f90f-71f61d4aadd8"
      },
      "execution_count": null,
      "outputs": [
        {
          "output_type": "stream",
          "name": "stdout",
          "text": [
            "8.76923076923077\n"
          ]
        }
      ]
    },
    {
      "cell_type": "code",
      "source": [
        "z = ((67 - k1)**2)/k1+ ((23 - k2)**2)/k2 + ((12 - k3)**2)/k3 + ((15 - k4)**2)/k4\n",
        "print(z) "
      ],
      "metadata": {
        "colab": {
          "base_uri": "https://localhost:8080/"
        },
        "id": "A9B7X8AiQ5cJ",
        "outputId": "04fe1ec1-a2d3-4d3b-8f06-3ce6e776b4d5"
      },
      "execution_count": null,
      "outputs": [
        {
          "output_type": "stream",
          "name": "stdout",
          "text": [
            "8.523617588274483\n"
          ]
        }
      ]
    },
    {
      "cell_type": "code",
      "source": [
        "p_value = 1 - stats.chi2(1).cdf(z)"
      ],
      "metadata": {
        "id": "OaxKodtoSCCR"
      },
      "execution_count": null,
      "outputs": []
    },
    {
      "cell_type": "code",
      "source": [
        "print(p_value)"
      ],
      "metadata": {
        "colab": {
          "base_uri": "https://localhost:8080/"
        },
        "id": "o4osgpLvSODN",
        "outputId": "73a18791-308e-400d-a4cf-b408e03b83a1"
      },
      "execution_count": null,
      "outputs": [
        {
          "output_type": "stream",
          "name": "stdout",
          "text": [
            "0.0035056693810920914\n"
          ]
        }
      ]
    }
  ]
}