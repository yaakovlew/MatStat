{
  "nbformat": 4,
  "nbformat_minor": 0,
  "metadata": {
    "colab": {
      "provenance": []
    },
    "kernelspec": {
      "name": "python3",
      "display_name": "Python 3"
    },
    "language_info": {
      "name": "python"
    }
  },
  "cells": [
    {
      "cell_type": "code",
      "execution_count": null,
      "metadata": {
        "colab": {
          "base_uri": "https://localhost:8080/"
        },
        "id": "M77Bbstez7L4",
        "outputId": "328775be-cf8a-460e-a0f8-5ce18e4f6218"
      },
      "outputs": [
        {
          "output_type": "stream",
          "name": "stderr",
          "text": [
            "/usr/local/lib/python3.7/dist-packages/statsmodels/tools/_testing.py:19: FutureWarning: pandas.util.testing is deprecated. Use the functions in the public API at pandas.testing instead.\n",
            "  import pandas.util.testing as tm\n"
          ]
        }
      ],
      "source": [
        "import numpy as np         # библиотека для матриц и математики\n",
        "import pandas as pd        # библиотека для работы с табличками\n",
        "from scipy import stats    # модуль для работы со статистикой\n",
        "\n",
        "# библиотеки для визуализации\n",
        "import matplotlib.pyplot as plt\n",
        "import seaborn as sns\n",
        "\n",
        "import math\n",
        "\n",
        "from statsmodels.stats.weightstats import ztest as ztest\n",
        "\n",
        "plt.style.use('ggplot')    # стиль графиков\n",
        "\n",
        "%matplotlib inline\n",
        "#A4 A20"
      ]
    },
    {
      "cell_type": "code",
      "source": [
        "df = pd.read_excel(\"/content/drive/MyDrive/Study MePHI/сем5/matstat/HW/data_matstat_K5.xls\", sheet_name=\"A - aaup\")"
      ],
      "metadata": {
        "id": "INs2av9c0Tmn"
      },
      "execution_count": null,
      "outputs": []
    },
    {
      "cell_type": "code",
      "source": [
        "6 + 207 + 525 + 174 + 152 + 9"
      ],
      "metadata": {
        "colab": {
          "base_uri": "https://localhost:8080/"
        },
        "id": "JH3tC9eFXPbB",
        "outputId": "fdab0606-7485-43ad-bf34-957426a1d0c0"
      },
      "execution_count": null,
      "outputs": [
        {
          "output_type": "execute_result",
          "data": {
            "text/plain": [
              "1073"
            ]
          },
          "metadata": {},
          "execution_count": 7
        }
      ]
    },
    {
      "cell_type": "code",
      "source": [
        "#эмпирическая таблица\n",
        "confusion_mx = pd.crosstab(df.A4, df.A20)\n",
        "confusion_mx"
      ],
      "metadata": {
        "colab": {
          "base_uri": "https://localhost:8080/",
          "height": 173
        },
        "id": "sC9GgzsQ7bJv",
        "outputId": "bdddaa09-ea7c-46d5-8518-b9448bf3e409"
      },
      "execution_count": null,
      "outputs": [
        {
          "output_type": "execute_result",
          "data": {
            "text/html": [
              "<div>\n",
              "<style scoped>\n",
              "    .dataframe tbody tr th:only-of-type {\n",
              "        vertical-align: middle;\n",
              "    }\n",
              "\n",
              "    .dataframe tbody tr th {\n",
              "        vertical-align: top;\n",
              "    }\n",
              "\n",
              "    .dataframe thead th {\n",
              "        text-align: right;\n",
              "    }\n",
              "</style>\n",
              "<table border=\"1\" class=\"dataframe\">\n",
              "  <thead>\n",
              "    <tr style=\"text-align: right;\">\n",
              "      <th>A20</th>\n",
              "      <th>N</th>\n",
              "      <th>Y</th>\n",
              "    </tr>\n",
              "    <tr>\n",
              "      <th>A4</th>\n",
              "      <th></th>\n",
              "      <th></th>\n",
              "    </tr>\n",
              "  </thead>\n",
              "  <tbody>\n",
              "    <tr>\n",
              "      <th>I</th>\n",
              "      <td>6</td>\n",
              "      <td>174</td>\n",
              "    </tr>\n",
              "    <tr>\n",
              "      <th>IIA</th>\n",
              "      <td>207</td>\n",
              "      <td>152</td>\n",
              "    </tr>\n",
              "    <tr>\n",
              "      <th>IIB</th>\n",
              "      <td>525</td>\n",
              "      <td>9</td>\n",
              "    </tr>\n",
              "  </tbody>\n",
              "</table>\n",
              "</div>"
            ],
            "text/plain": [
              "A20    N    Y\n",
              "A4           \n",
              "I      6  174\n",
              "IIA  207  152\n",
              "IIB  525    9"
            ]
          },
          "metadata": {},
          "execution_count": 3
        }
      ]
    },
    {
      "cell_type": "code",
      "source": [
        "#теоретическая таблица\n",
        "arr = confusion_mx.to_numpy()\n",
        "\n",
        "k = len(arr)\n",
        "l = len(arr[0])\n",
        "\n",
        "n = 0\n",
        "for i in range(0, len(arr)):\n",
        "  for j in range(0, len(arr[i])):\n",
        "    n += arr[i][j]\n",
        "\n",
        "m = []\n",
        "\n",
        "for i in range(0, len(arr)):\n",
        "  m_line = []\n",
        "  for j in range(0, len(arr[i])):\n",
        "    \n",
        "    x1 = 0\n",
        "    for i1 in range(0, len(arr[i])):\n",
        "      x1 += arr[i][i1]\n",
        "    x2 = 0\n",
        "    for i2 in range(0, len(arr)):\n",
        "      x2 += arr[i2][j]\n",
        "    \n",
        "    m_line.append((x1*x2)/n)\n",
        "  m.append(m_line)\n",
        "\n",
        "print(\"Tеоретическая таблица:\")\n",
        "m"
      ],
      "metadata": {
        "colab": {
          "base_uri": "https://localhost:8080/"
        },
        "id": "bZ_y6gOU79J9",
        "outputId": "bc529751-8274-4818-ff7c-4ba4bed825de"
      },
      "execution_count": null,
      "outputs": [
        {
          "output_type": "stream",
          "name": "stdout",
          "text": [
            "Tеоретическая таблица:\n"
          ]
        },
        {
          "output_type": "execute_result",
          "data": {
            "text/plain": [
              "[[123.80242311276794, 56.19757688723206],\n",
              " [246.9170549860205, 112.0829450139795],\n",
              " [367.28052190121156, 166.71947809878844]]"
            ]
          },
          "metadata": {},
          "execution_count": 8
        }
      ]
    },
    {
      "cell_type": "code",
      "source": [
        "#Проверить статистические гипотезы\n",
        "z = 0\n",
        "\n",
        "for i in range(0, len(arr)):\n",
        "  for j in range(0, len(arr[i])):\n",
        "    z += ((arr[i][j] - m[i][j])**2) / m[i][j]\n",
        "\n",
        "f_z_chi =  stats.chi2((k-1)*(l-1)).cdf(z)\n",
        "p_value = 2 * min(f_z_chi, 1 - f_z_chi)\n",
        "\n",
        "critical_point = stats.chi2((k-1)*(l-1)).ppf(0.95)\n",
        "\n",
        "print(\"Test: z = %.3f; p-value = %.3f\" % (z, p_value))\n",
        "print(critical_point)"
      ],
      "metadata": {
        "colab": {
          "base_uri": "https://localhost:8080/"
        },
        "id": "fjgucuQBBvAF",
        "outputId": "945ffd1e-2be5-429a-b929-c941839d35ee"
      },
      "execution_count": null,
      "outputs": [
        {
          "output_type": "stream",
          "name": "stdout",
          "text": [
            "Test: z = 596.636; p-value = 0.000\n",
            "5.991464547107979\n"
          ]
        }
      ]
    },
    {
      "cell_type": "code",
      "source": [],
      "metadata": {
        "id": "VpC8LMJl-6kl"
      },
      "execution_count": null,
      "outputs": []
    }
  ]
}