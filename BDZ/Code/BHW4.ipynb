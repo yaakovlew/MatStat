{
  "nbformat": 4,
  "nbformat_minor": 0,
  "metadata": {
    "colab": {
      "provenance": []
    },
    "kernelspec": {
      "name": "python3",
      "display_name": "Python 3"
    },
    "language_info": {
      "name": "python"
    }
  },
  "cells": [
    {
      "cell_type": "code",
      "execution_count": null,
      "metadata": {
        "id": "MZO3j1l8yv1L"
      },
      "outputs": [],
      "source": [
        "import numpy as np         # библиотека для матриц и математики\n",
        "import pandas as pd        # библиотека для работы с табличками\n",
        "from scipy import stats    # модуль для работы со статистикой\n",
        "\n",
        "# библиотеки для визуализации\n",
        "import matplotlib.pyplot as plt\n",
        "import seaborn as sns\n",
        "\n",
        "import math\n",
        "\n",
        "plt.style.use('ggplot')    # стиль графиков\n",
        "%matplotlib inline"
      ]
    },
    {
      "cell_type": "code",
      "source": [
        "df = pd.read_excel(\"/content/drive/MyDrive/Study MePHI/сем5/matstat/HW/data_matstat_K5.xls\", sheet_name=\"A - aaup\")"
      ],
      "metadata": {
        "id": "0wbJuWShy8Mh"
      },
      "execution_count": null,
      "outputs": []
    },
    {
      "cell_type": "code",
      "source": [
        "n = len(df.A7)\n",
        "sample = df.A7.to_numpy()\n",
        "\n",
        "k = round(1 + math.log2(n))   #число интервалов\n",
        "h = (max(sample) - min(sample)) / k   #ширина\n",
        "print(k, h)"
      ],
      "metadata": {
        "id": "DPTXoro81NHa",
        "colab": {
          "base_uri": "https://localhost:8080/"
        },
        "outputId": "79b55c33-6719-4eee-a7b8-c2eb417a4eba"
      },
      "execution_count": null,
      "outputs": [
        {
          "output_type": "stream",
          "name": "stdout",
          "text": [
            "11 34.27272727272727\n"
          ]
        }
      ]
    },
    {
      "cell_type": "markdown",
      "source": [
        "# Критерий хи-квадрат\n"
      ],
      "metadata": {
        "id": "JNpc217huLVB"
      }
    },
    {
      "cell_type": "code",
      "source": [
        "frequencies = plt.hist(sample, bins=k)[0]\n",
        "\n",
        "frequencies_relative = []\n",
        "for frequence in frequencies:\n",
        "  frequencies_relative.append(frequence / n)\n",
        "\n",
        "values = plt.hist(sample, bins=k)[1]\n",
        "\n",
        "frequencies_relative"
      ],
      "metadata": {
        "colab": {
          "base_uri": "https://localhost:8080/",
          "height": 452
        },
        "id": "6o67ZazE6JJG",
        "outputId": "ca2b64af-d7f6-4e23-dd5a-4c7fc46a555a"
      },
      "execution_count": null,
      "outputs": [
        {
          "output_type": "execute_result",
          "data": {
            "text/plain": [
              "[0.0027958993476234857,\n",
              " 0.032618825722273995,\n",
              " 0.12301957129543337,\n",
              " 0.2190121155638397,\n",
              " 0.26001863932898417,\n",
              " 0.18546132339235788,\n",
              " 0.11742777260018639,\n",
              " 0.032618825722273995,\n",
              " 0.017707362534948742,\n",
              " 0.007455731593662628,\n",
              " 0.001863932898415657]"
            ]
          },
          "metadata": {},
          "execution_count": 4
        },
        {
          "output_type": "display_data",
          "data": {
            "image/png": "[encoded data removed]",
            "text/plain": [
              "<Figure size 432x288 with 1 Axes>"
            ]
          },
          "metadata": {
            "needs_background": "light"
          }
        }
      ]
    },
    {
      "cell_type": "code",
      "source": [
        "#Вероятность попадания в интервал при условии истинности основной гипотезы\n",
        "\n",
        "mean = np.mean(sample)\n",
        "std = np.std(sample)\n",
        "\n",
        "count,division = np.histogram(sample, bins=k)\n",
        "\n",
        "p_H_true = []\n",
        "for i in range(1, len(division)):\n",
        "  p = stats.norm(loc=mean, scale=std).cdf(division[i]) - stats.norm(loc=mean, scale=std).cdf(division[i-1])\n",
        "  p_H_true.append(p)\n",
        "\n",
        "p_H_true"
      ],
      "metadata": {
        "colab": {
          "base_uri": "https://localhost:8080/"
        },
        "id": "7B4MmX1W7myU",
        "outputId": "69f49d19-7c62-43a0-dbe1-30bf1b16ecb4"
      },
      "execution_count": null,
      "outputs": [
        {
          "output_type": "execute_result",
          "data": {
            "text/plain": [
              "[0.009986290973813804,\n",
              " 0.04019512683994798,\n",
              " 0.10928631759450905,\n",
              " 0.2008165790928036,\n",
              " 0.24946774164480978,\n",
              " 0.20953734111919553,\n",
              " 0.11898699212071995,\n",
              " 0.04566654164424344,\n",
              " 0.01183987292244637,\n",
              " 0.0020723848098110897,\n",
              " 0.0002447056549627069]"
            ]
          },
          "metadata": {},
          "execution_count": 5
        }
      ]
    },
    {
      "cell_type": "code",
      "source": [
        "#Построить гистограмму относительных частот и функцию плотности\n",
        "\n",
        "x = np.linspace(200, 600, 10000)\n",
        "norm_rv = stats.norm(loc=mean, scale=std)\n",
        "pdf = norm_rv.pdf(x)\n",
        "\n",
        "# плотность \n",
        "plt.plot(x, pdf, lw=3)\n",
        "\n",
        "plt.hist(sample, bins=k, density=True);\n",
        "\n",
        "#plt.ylabel('$f(z|H0)$')\n",
        "#plt.xlabel('$z$');"
      ],
      "metadata": {
        "colab": {
          "base_uri": "https://localhost:8080/",
          "height": 265
        },
        "id": "ns1q4iW5M8NR",
        "outputId": "56d3d591-0e07-4a6d-c177-d1582952ad13"
      },
      "execution_count": null,
      "outputs": [
        {
          "output_type": "display_data",
          "data": {
            "image/png": "[encoded data removed]",
            "text/plain": [
              "<Figure size 432x288 with 1 Axes>"
            ]
          },
          "metadata": {
            "needs_background": "light"
          }
        }
      ]
    },
    {
      "cell_type": "code",
      "source": [
        "arr = []\n",
        "for i in range(0,k):\n",
        "  arr.append(n*p_H_true[i])\n",
        "arr"
      ],
      "metadata": {
        "colab": {
          "base_uri": "https://localhost:8080/"
        },
        "id": "t-QXbWmhUScy",
        "outputId": "3e848865-fd99-404d-9e2e-af32ce98376d"
      },
      "execution_count": null,
      "outputs": [
        {
          "output_type": "execute_result",
          "data": {
            "text/plain": [
              "[10.715290214902211,\n",
              " 43.129371099264176,\n",
              " 117.2642187789082,\n",
              " 215.47618936657827,\n",
              " 267.6788867848809,\n",
              " 224.8335670208968,\n",
              " 127.67304254553251,\n",
              " 49.000199184273214,\n",
              " 12.704183645784955]"
            ]
          },
          "metadata": {},
          "execution_count": 12
        }
      ]
    },
    {
      "cell_type": "code",
      "source": [],
      "metadata": {
        "id": "4E3dIfrDUSjx"
      },
      "execution_count": null,
      "outputs": []
    },
    {
      "cell_type": "code",
      "source": [
        "z = 0\n",
        "for i in range(0,k):\n",
        "  z += ((frequencies[i] - n*p_H_true[i])**2) / (n*p_H_true[i])\n",
        "\n",
        "r = 2\n",
        "\n",
        "f_z_chi = stats.chi2(k - r - 1).cdf(z)\n",
        "p_value = 2 * min(f_z_chi, 1 - f_z_chi)\n",
        "\n",
        "quantil = stats.chi2(k - r - 1).ppf(1-0.01)\n",
        "\n",
        "print(\"chi-squared criteria for N: z = %.3f; p-value = %.3f\" % (z, p_value))\n",
        "print(quantil)"
      ],
      "metadata": {
        "colab": {
          "base_uri": "https://localhost:8080/"
        },
        "id": "Fr-xyyf7qQmP",
        "outputId": "5ec01355-adc7-4d88-8d0b-daf2dafd2513"
      },
      "execution_count": null,
      "outputs": [
        {
          "output_type": "stream",
          "name": "stdout",
          "text": [
            "chi-squared criteria for N: z = 47.799; p-value = 0.000\n",
            "20.090235029663233\n"
          ]
        }
      ]
    },
    {
      "cell_type": "code",
      "source": [
        "def getNP(val, freq, n1, m, sigma):\n",
        "  n  = list()\n",
        "  np = list()\n",
        "  npx = 0\n",
        "  nx = 0\n",
        "  distr = stats.norm(loc = m, scale = sigma)\n",
        "  for i in range(0, len(val) - 1):\n",
        "    npx += (distr.cdf(val[i + 1]) - distr.cdf(val[i])) * n1\n",
        "    nx += freq[i]\n",
        "    if (npx >= 5):\n",
        "      n.append(nx)\n",
        "      np.append(npx)\n",
        "      nx = 0\n",
        "      npx = 0\n",
        "    elif (npx < 5) and (i == len(val) - 2):\n",
        "      n[len(n) - 1] = nx + n[len(n) - 1]\n",
        "      np[len(np) - 1] = npx + np[len(np) - 1]    \n",
        "  return (n, np)\n",
        "\n",
        "def getZ(n, np):\n",
        "    z = 0\n",
        "    for i in range(0, len(n)):\n",
        "        z += (n[i] - np[i])**2 / np[i]\n",
        "    return z\n",
        "\n",
        "def getNP_no_merge(val, freq, n1, m, sigma):\n",
        "  n  = list()\n",
        "  np = list()\n",
        "  npx = 0\n",
        "  nx = 0\n",
        "  distr = stats.norm(loc = m, scale = sigma)\n",
        "  for i in range(0, len(val) - 1):\n",
        "    npx = (distr.cdf(val[i + 1]) - distr.cdf(val[i])) * n1\n",
        "    nx = freq[i]\n",
        "    n.append(nx)\n",
        "    np.append(npx)\n",
        "     \n",
        "  return (n, np)"
      ],
      "metadata": {
        "id": "w43dM1TAPIXU"
      },
      "execution_count": null,
      "outputs": []
    },
    {
      "cell_type": "code",
      "source": [
        "alpha = 0.01\n",
        "\n",
        "new_n, new_np = getNP(values, frequencies, n, mean, std)\n",
        "\n",
        "\n",
        "\n",
        "z = getZ(new_n, new_np)\n",
        "k = len(new_n)\n",
        "r = 2\n",
        "\n",
        "f_z_chi = stats.chi2.cdf(z, k - r - 1)\n",
        "p_value = 2 * min(f_z_chi, 1 - f_z_chi)\n",
        "\n",
        "print(\"chi-squared criteria for N: z = %.3f; p-value = %.3f\" % (z, p_value))\n",
        "# у меня вышел ноль, я хз\n",
        "# ошибка 2 рода для всех строк"
      ],
      "metadata": {
        "colab": {
          "base_uri": "https://localhost:8080/"
        },
        "id": "oF9FiSuzPngT",
        "outputId": "6c1f5ca9-4ede-44df-c25a-f2ed1a122a8d"
      },
      "execution_count": null,
      "outputs": [
        {
          "output_type": "stream",
          "name": "stdout",
          "text": [
            "chi-squared criteria for N: z = 30.732; p-value = 0.000\n"
          ]
        }
      ]
    },
    {
      "cell_type": "markdown",
      "source": [
        "# критерий Харке-Бера"
      ],
      "metadata": {
        "id": "Lkk7Iv51t5Hw"
      }
    },
    {
      "cell_type": "code",
      "source": [
        "stats.jarque_bera(sample)"
      ],
      "metadata": {
        "colab": {
          "base_uri": "https://localhost:8080/"
        },
        "id": "DgvMtX6kRZUu",
        "outputId": "826e61e7-53b4-426a-bbeb-1a6cc5056eac"
      },
      "execution_count": null,
      "outputs": [
        {
          "output_type": "execute_result",
          "data": {
            "text/plain": [
              "(44.13218548064099, 2.611064697788379e-10)"
            ]
          },
          "metadata": {},
          "execution_count": 10
        }
      ]
    },
    {
      "cell_type": "code",
      "source": [],
      "metadata": {
        "id": "rpSmQ8dWRZWv"
      },
      "execution_count": null,
      "outputs": []
    },
    {
      "cell_type": "code",
      "source": [],
      "metadata": {
        "id": "47sEo-WdRZZI"
      },
      "execution_count": null,
      "outputs": []
    }
  ]
}