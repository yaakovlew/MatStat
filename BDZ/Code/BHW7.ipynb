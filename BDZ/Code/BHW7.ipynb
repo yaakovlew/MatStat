{
  "nbformat": 4,
  "nbformat_minor": 0,
  "metadata": {
    "colab": {
      "provenance": []
    },
    "kernelspec": {
      "name": "python3",
      "display_name": "Python 3"
    },
    "language_info": {
      "name": "python"
    }
  },
  "cells": [
    {
      "cell_type": "code",
      "execution_count": null,
      "metadata": {
        "id": "3kDFcu0CGoCu"
      },
      "outputs": [],
      "source": [
        "import pandas as pd\n",
        "import numpy as np"
      ]
    },
    {
      "cell_type": "code",
      "source": [
        "df1 = pd.read_excel('/content/data_matstat_K5.xlsx', sheet_name= 'D - homedat')['D7'].to_numpy()\n",
        "df2 = pd.read_excel('/content/data_matstat_K5.xlsx', sheet_name= 'D - homedat')['D3'].to_numpy()"
      ],
      "metadata": {
        "id": "hCLJ1qwGG6gv"
      },
      "execution_count": null,
      "outputs": []
    },
    {
      "cell_type": "code",
      "source": [
        "#Число вариантов факторного признака \n",
        "unique = len(set(df1))\n",
        "print(unique)\n",
        "print(set(df1))"
      ],
      "metadata": {
        "colab": {
          "base_uri": "https://localhost:8080/"
        },
        "id": "MoTx32h_Hmin",
        "outputId": "c0d14195-96a8-40ff-b97b-5720ef60c628"
      },
      "execution_count": null,
      "outputs": [
        {
          "output_type": "stream",
          "name": "stdout",
          "text": [
            "3\n",
            "{'north', 'other', 'south'}\n"
          ]
        }
      ]
    },
    {
      "cell_type": "code",
      "source": [
        "#Объёмы выборок \n",
        "print(len(df1))\n",
        "print(len(df2))\n",
        "n = len(df1)"
      ],
      "metadata": {
        "colab": {
          "base_uri": "https://localhost:8080/"
        },
        "id": "-3YUgrVhIkh_",
        "outputId": "620c026c-3eec-4ba9-a827-acdefdbdf8a3"
      },
      "execution_count": null,
      "outputs": [
        {
          "output_type": "stream",
          "name": "stdout",
          "text": [
            "117\n",
            "117\n"
          ]
        }
      ]
    },
    {
      "cell_type": "code",
      "source": [
        "n1 = df1.tolist().count('north')\n",
        "n2 = df1.tolist().count('south')\n",
        "n3 = df1.tolist().count('other')\n",
        "print(n1)\n",
        "print(n2)\n",
        "print(n3)"
      ],
      "metadata": {
        "colab": {
          "base_uri": "https://localhost:8080/"
        },
        "id": "oG46qhN-JFhq",
        "outputId": "9f232f8b-7817-44f5-9810-94d4b997b217"
      },
      "execution_count": null,
      "outputs": [
        {
          "output_type": "stream",
          "name": "stdout",
          "text": [
            "41\n",
            "45\n",
            "31\n"
          ]
        }
      ]
    },
    {
      "cell_type": "code",
      "source": [
        "# групповые средние\n",
        "mean_north = 0\n",
        "mean_south = 0\n",
        "mean_other = 0\n",
        "for i in range(n):\n",
        "  if df1[i] == 'north':\n",
        "    mean_north+= df2[i] / n1\n",
        "  if df1[i] == 'south':\n",
        "    mean_south+= df2[i] / n2\n",
        "  if df1[i] == 'other':\n",
        "    mean_other+= df2[i] / n3\n",
        "print (mean_north, mean_south, mean_other)"
      ],
      "metadata": {
        "colab": {
          "base_uri": "https://localhost:8080/"
        },
        "id": "OCxPzGdVKBQm",
        "outputId": "d3aefa9b-9bae-4aba-fe7e-0ea40205e8f5"
      },
      "execution_count": null,
      "outputs": [
        {
          "output_type": "stream",
          "name": "stdout",
          "text": [
            "1462.609756097561 1125.3555555555552 1189.1612903225807\n"
          ]
        }
      ]
    },
    {
      "cell_type": "code",
      "source": [
        "# групповые дисперсии\n",
        "disp_north = 0\n",
        "disp_south = 0\n",
        "disp_other = 0\n",
        "for i in range(n):\n",
        "  if df1[i] == 'north':\n",
        "    disp_north+= ((df2[i] - mean_north)**2) / n1\n",
        "  if df1[i] == 'south':\n",
        "    disp_south+= ((df2[i] - mean_south)**2) / n2\n",
        "  if df1[i] == 'other':\n",
        "    disp_other+= ((df2[i] - mean_other)**2) / n3\n",
        "print (disp_north, disp_south, disp_other)"
      ],
      "metadata": {
        "colab": {
          "base_uri": "https://localhost:8080/"
        },
        "id": "FNQHG-nkLeEa",
        "outputId": "ac48f00e-0ff2-4bf5-f951-4de5c19d0edf"
      },
      "execution_count": null,
      "outputs": [
        {
          "output_type": "stream",
          "name": "stdout",
          "text": [
            "179213.1160023795 88750.62913580245 113448.65140478668\n"
          ]
        }
      ]
    },
    {
      "cell_type": "code",
      "source": [
        "k = 3"
      ],
      "metadata": {
        "id": "9eZHBIlnMz8f"
      },
      "execution_count": null,
      "outputs": []
    },
    {
      "cell_type": "code",
      "source": [
        "M = np.mean(df2)\n",
        "print(M)\n",
        "D = np.var(df2)\n",
        "print(D)"
      ],
      "metadata": {
        "colab": {
          "base_uri": "https://localhost:8080/"
        },
        "id": "OvoCi5d_NBNK",
        "outputId": "acdca50d-d829-4438-db5b-93a2fe25cf8d"
      },
      "execution_count": null,
      "outputs": [
        {
          "output_type": "stream",
          "name": "stdout",
          "text": [
            "1260.4444444444443\n",
            "149682.5033238367\n"
          ]
        }
      ]
    },
    {
      "cell_type": "code",
      "source": [
        "#показатели вариации\n",
        "Db = (n1 * (mean_north - M)**2 + n2 * (mean_south - M)**2 + n3 * (mean_other - M)**2) / n \n",
        "print(Db)\n",
        "Dw = (n1 * disp_north + n2 * disp_south + n3 * disp_other) / n\n",
        "print(Dw)\n",
        "D = Dw + Db\n",
        "print(D)"
      ],
      "metadata": {
        "colab": {
          "base_uri": "https://localhost:8080/"
        },
        "id": "ezJ65nUDNXlx",
        "outputId": "927772ec-1e45-495f-b654-bcd769fa26d7"
      },
      "execution_count": null,
      "outputs": [
        {
          "output_type": "stream",
          "name": "stdout",
          "text": [
            "22687.424172066974\n",
            "126995.07915176972\n",
            "149682.5033238367\n"
          ]
        }
      ]
    },
    {
      "cell_type": "code",
      "source": [
        "#их несмещённая оценка\n",
        "Db_mark = n * Db /(k -1) \n",
        "print(Db_mark)\n",
        "Dw_mark = n * Dw /(n -k) \n",
        "print(Dw_mark)\n",
        "D_mark = n * D /(n - 1) \n",
        "print(D_mark)"
      ],
      "metadata": {
        "colab": {
          "base_uri": "https://localhost:8080/"
        },
        "id": "54z6sy7tO5Ep",
        "outputId": "98fd551c-0125-49e0-b5c7-fec906cd5fb5"
      },
      "execution_count": null,
      "outputs": [
        {
          "output_type": "stream",
          "name": "stdout",
          "text": [
            "1327214.314065918\n",
            "130337.05491892155\n",
            "150972.8697318008\n"
          ]
        }
      ]
    },
    {
      "cell_type": "code",
      "source": [
        "#эмпирический коэффициент детерминизации и эмпирическое корреляционное отношение\n",
        "ecd = Db / D\n",
        "ecr = ecd ** 0.5\n",
        "print(ecd)\n",
        "print(ecr)"
      ],
      "metadata": {
        "colab": {
          "base_uri": "https://localhost:8080/"
        },
        "id": "yEKQKxrkPeOF",
        "outputId": "02c12d16-0f72-4fc2-efbf-3a68470a00f6"
      },
      "execution_count": null,
      "outputs": [
        {
          "output_type": "stream",
          "name": "stdout",
          "text": [
            "0.15157031495513504\n",
            "0.3893203243540402\n"
          ]
        }
      ]
    },
    {
      "cell_type": "code",
      "source": [
        "# подсчёт статистики и вероятности\n",
        "from scipy import stats as st\n",
        "f = (Db / (k - 1))/(Dw / (n - k))\n",
        "print(f)\n",
        "p_value = st.f( k - 1, n - k).sf(f)\n",
        "print(p_value)"
      ],
      "metadata": {
        "colab": {
          "base_uri": "https://localhost:8080/"
        },
        "id": "avYPtj6iQHKz",
        "outputId": "29038551-9057-4ef6-8907-34b8e9847407"
      },
      "execution_count": null,
      "outputs": [
        {
          "output_type": "stream",
          "name": "stdout",
          "text": [
            "10.182939263830496\n",
            "8.533039424684829e-05\n"
          ]
        }
      ]
    }
  ]
}